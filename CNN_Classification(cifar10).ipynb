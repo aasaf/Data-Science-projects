{
  "nbformat": 4,
  "nbformat_minor": 0,
  "metadata": {
    "colab": {
      "name": "CNN Classification(cifar10).ipynb",
      "provenance": [],
      "collapsed_sections": []
    },
    "kernelspec": {
      "name": "python3",
      "display_name": "Python 3"
    },
    "accelerator": "GPU"
  },
  "cells": [
    {
      "cell_type": "markdown",
      "metadata": {
        "id": "G9K30mfywWcr"
      },
      "source": [
        "# Cifar10 Classification"
      ]
    },
    {
      "cell_type": "markdown",
      "metadata": {
        "id": "FOtrxguYwrkH"
      },
      "source": [
        "## import libreries"
      ]
    },
    {
      "cell_type": "code",
      "metadata": {
        "id": "qm8yzOWtwTbc"
      },
      "source": [
        "import tensorflow as tfi\n",
        "from tensorflow.keras import datasets, layers, models\n",
        "import matplotlib.pyplot as plt\n",
        "import numpy as np\n",
        "import pandas as pd\n",
        "import numpy as np\n",
        "import tensorflow as tf\n",
        "import matplotlib.pyplot as plt\n",
        "import tensorflow.keras\n",
        "from tensorflow.keras.layers import Conv2D, Dropout, MaxPool2D, AvgPool2D, Add, Dense \n",
        "from tensorflow.keras.preprocessing.image import load_img, img_to_array\n",
        "from tensorflow.keras.layers import Input,Dropout, Add, Dense, Activation, ZeroPadding2D, BatchNormalization, Flatten, Conv2D, AveragePooling2D, MaxPooling2D\n",
        "from tensorflow.keras.models import Model, load_model,Sequential\n",
        "from tensorflow.keras.initializers import glorot_uniform\n",
        "import warnings"
      ],
      "execution_count": 38,
      "outputs": []
    },
    {
      "cell_type": "markdown",
      "metadata": {
        "id": "2xSPGsrKw3ca"
      },
      "source": [
        "## Load dataset"
      ]
    },
    {
      "cell_type": "code",
      "metadata": {
        "colab": {
          "base_uri": "https://localhost:8080/"
        },
        "id": "3j12YJPowi2e",
        "outputId": "25452546-a77d-4760-9db0-898db03fa96e"
      },
      "source": [
        "(X_train, y_train), (X_test,y_test) = datasets.cifar10.load_data()\n",
        "X_train.shape"
      ],
      "execution_count": 39,
      "outputs": [
        {
          "output_type": "execute_result",
          "data": {
            "text/plain": [
              "(50000, 32, 32, 3)"
            ]
          },
          "metadata": {
            "tags": []
          },
          "execution_count": 39
        }
      ]
    },
    {
      "cell_type": "code",
      "metadata": {
        "id": "eb3fEHS_xb8c"
      },
      "source": [
        "y_train = y_train.reshape(-1,)\n",
        "y_test = y_test.reshape(-1,)"
      ],
      "execution_count": 40,
      "outputs": []
    },
    {
      "cell_type": "code",
      "metadata": {
        "id": "zB0KZpavxlBw"
      },
      "source": [
        "#All the labels\n",
        "classes = [\"airplane\",\"automobile\",\"bird\",\"cat\",\"deer\",\"dog\",\"frog\",\"horse\",\"ship\",\"truck\"]"
      ],
      "execution_count": 41,
      "outputs": []
    },
    {
      "cell_type": "code",
      "metadata": {
        "colab": {
          "base_uri": "https://localhost:8080/",
          "height": 173
        },
        "id": "L1ZZ0a2FxAXM",
        "outputId": "454f803e-dd69-4f7b-9461-b5d535ebad2b"
      },
      "source": [
        "def plot_image(x,y,index):\n",
        "  \n",
        "  plt.figure(figsize = (2,2))\n",
        "  plt.imshow(x[index])\n",
        "  plt.xlabel(classes[y[index]])\n",
        "\n",
        "plot_image(X_train,y_train,67)"
      ],
      "execution_count": 42,
      "outputs": [
        {
          "output_type": "display_data",
          "data": {
            "image/png": "[encoded data removed]",
            "text/plain": [
              "<Figure size 144x144 with 1 Axes>"
            ]
          },
          "metadata": {
            "tags": [],
            "needs_background": "light"
          }
        }
      ]
    },
    {
      "cell_type": "code",
      "metadata": {
        "colab": {
          "base_uri": "https://localhost:8080/",
          "height": 173
        },
        "id": "dtAKiSzoxF8x",
        "outputId": "55848203-bf82-4ce4-b9fa-c1b9c2d91748"
      },
      "source": [
        "plot_image(X_train,y_train,12)"
      ],
      "execution_count": 43,
      "outputs": [
        {
          "output_type": "display_data",
          "data": {
            "image/png": "[encoded data removed]",
            "text/plain": [
              "<Figure size 144x144 with 1 Axes>"
            ]
          },
          "metadata": {
            "tags": [],
            "needs_background": "light"
          }
        }
      ]
    },
    {
      "cell_type": "markdown",
      "metadata": {
        "id": "Liu7xn_uzStU"
      },
      "source": [
        "# Scaling the data"
      ]
    },
    {
      "cell_type": "code",
      "metadata": {
        "id": "Xoqrf8cUzOjj"
      },
      "source": [
        "X_train = X_train/255\n",
        "X_test = X_test/255"
      ],
      "execution_count": 44,
      "outputs": []
    },
    {
      "cell_type": "code",
      "metadata": {
        "colab": {
          "base_uri": "https://localhost:8080/"
        },
        "id": "22Az4XfL0E7q",
        "outputId": "7c1c497b-56a6-42d6-ab62-b0752e4ebc58"
      },
      "source": [
        "# Image = 32X32 pixels , 3D (RGB)\n",
        "X_train.shape[1:]"
      ],
      "execution_count": 45,
      "outputs": [
        {
          "output_type": "execute_result",
          "data": {
            "text/plain": [
              "(32, 32, 3)"
            ]
          },
          "metadata": {
            "tags": []
          },
          "execution_count": 45
        }
      ]
    },
    {
      "cell_type": "markdown",
      "metadata": {
        "id": "mw0ORLuST3DL"
      },
      "source": [
        "# Data augmentation \n"
      ]
    },
    {
      "cell_type": "code",
      "metadata": {
        "id": "BJvWQomlTrEG"
      },
      "source": [
        "data_augmentation = tfi.keras.Sequential([\n",
        "#  layers.experimental.preprocessing.RandomFlip(\"horizontal\"),\n",
        "  layers.experimental.preprocessing.RandomRotation(0.1),\n",
        "  layers.experimental.preprocessing.RandomZoom(0.1)\n",
        "])"
      ],
      "execution_count": 46,
      "outputs": []
    },
    {
      "cell_type": "markdown",
      "metadata": {
        "id": "ZM-K0v1kznkk"
      },
      "source": [
        "# CNN"
      ]
    },
    {
      "cell_type": "code",
      "metadata": {
        "id": "fq3tB1LKzdQ0",
        "colab": {
          "base_uri": "https://localhost:8080/",
          "height": 139
        },
        "outputId": "f4bb5f42-32ae-4070-f2f0-1b988e91f692"
      },
      "source": [
        "cnn = models.Sequential([\n",
        "        \n",
        "        #CNN\n",
        "        #data_augmentation,\n",
        "        layers.Conv2D(filters=32, kernel_size=(3, 3), activation='relu', input_shape= X_train.shape[1:]),\n",
        "        layers.BatchNormalization(),\n",
        "        layers.Conv2D(filters=32, kernel_size=(3, 3), activation='relu', input_shape= X_train.shape[1:]),\n",
        "        layers.BatchNormalization(),\n",
        "        layers.MaxPool2D(pool_size=(2,2),padding='same'),\n",
        "        layers.Dropout(0.5),\n",
        "        layers.Conv2D(filters=64, kernel_size=(3, 3), activation='relu'),\n",
        "        layers.BatchNormalization(),\n",
        "        layers.Conv2D(filters=64, kernel_size=(3, 3), activation='relu'),\n",
        "        layers.BatchNormalization(),\n",
        "        layers.MaxPool2D(pool_size=(2,2),padding='same'),\n",
        "        layers.Dropout(0.4),\n",
        "        layers.Conv2D(filters=128, kernel_size=(3, 3), activation='relu'),\n",
        "        layers.BatchNormalization(),\n",
        "        layers.Conv2D(filters=128, kernel_size=(3, 3), activation='relu'),\n",
        "        layers.BatchNormalization(),\n",
        "        layers.GlobalAvgPool2D(),\n",
        "        layers.BatchNormalization(),\n",
        "\n",
        "        #Fully connected\n",
        "        layers.Flatten(),\n",
        "        layers.BatchNormalization(),\n",
        "        layers.Dense(128, activation='relu'),\n",
        "        layers.Dropout(0.4),\n",
        "        layers.BatchNormalization(),\n",
        "        layers.Dense(64, activation='relu'),\n",
        "        layers.BatchNormalization(),\n",
        "        Dense(10,activation = 'softmax')\n",
        "])\n"
      ],
      "execution_count": 47,
      "outputs": [
        {
          "output_type": "execute_result",
          "data": {
            "application/vnd.google.colaboratory.intrinsic+json": {
              "type": "string"
            },
            "text/plain": [
              "\"\\nold\\ncnn = models.Sequential([\\n        \\n        #CNN\\n        #data_augmentation,\\n        layers.Conv2D(filters=64, kernel_size=(3, 3), activation='relu', input_shape= X_train.shape[1:]),\\n        layers.MaxPool2D(pool_size=(2,2),padding='same'),\\n        layers.Dropout(0.2),\\n        layers.Conv2D(filters=128, kernel_size=(3, 3), activation='relu'),\\n        layers.BatchNormalization(),\\n        layers.MaxPool2D(pool_size=(2,2),padding='same'),\\n        layers.Dropout(0.2),\\n        layers.Conv2D(filters=256, kernel_size=(3, 3), activation='relu'),\\n        layers.BatchNormalization(),\\n        layers.GlobalAvgPool2D(),\\n\\n        #Fully connected\\n        layers.Flatten(),\\n        layers.BatchNormalization(),\\n        layers.Dense(128, activation='relu'),\\n        layers.Dropout(0.2),\\n        layers.BatchNormalization(),\\n        layers.Dense(64, activation='relu'),\\n        layers.BatchNormalization(),\\n        Dense(10,activation = 'softmax')\\n])\\n\\n\\n\""
            ]
          },
          "metadata": {
            "tags": []
          },
          "execution_count": 47
        }
      ]
    },
    {
      "cell_type": "code",
      "metadata": {
        "id": "KrzbeZ5AzlWT"
      },
      "source": [
        "cnn.compile(optimizer='adam', loss = 'sparse_categorical_crossentropy', metrics = ['accuracy'])"
      ],
      "execution_count": 48,
      "outputs": []
    },
    {
      "cell_type": "code",
      "metadata": {
        "id": "6FyVoUeE39oU",
        "colab": {
          "base_uri": "https://localhost:8080/"
        },
        "outputId": "48b2221f-3268-4aac-fe86-ea8dfe85bee6"
      },
      "source": [
        "cnn.fit(X_train,y_train, epochs = 50)"
      ],
      "execution_count": 50,
      "outputs": [
        {
          "output_type": "stream",
          "text": [
            "Epoch 1/50\n",
            "1563/1563 [==============================] - 11s 7ms/step - loss: 1.4225 - accuracy: 0.4880\n",
            "Epoch 2/50\n",
            "1563/1563 [==============================] - 11s 7ms/step - loss: 1.1801 - accuracy: 0.5837\n",
            "Epoch 3/50\n",
            "1563/1563 [==============================] - 11s 7ms/step - loss: 1.0436 - accuracy: 0.6380\n",
            "Epoch 4/50\n",
            "1563/1563 [==============================] - 11s 7ms/step - loss: 0.9508 - accuracy: 0.6708\n",
            "Epoch 5/50\n",
            "1563/1563 [==============================] - 11s 7ms/step - loss: 0.8899 - accuracy: 0.6925\n",
            "Epoch 6/50\n",
            "1563/1563 [==============================] - 11s 7ms/step - loss: 0.8366 - accuracy: 0.7131\n",
            "Epoch 7/50\n",
            "1563/1563 [==============================] - 11s 7ms/step - loss: 0.7980 - accuracy: 0.7232\n",
            "Epoch 8/50\n",
            "1563/1563 [==============================] - 11s 7ms/step - loss: 0.7590 - accuracy: 0.7397\n",
            "Epoch 9/50\n",
            "1563/1563 [==============================] - 11s 7ms/step - loss: 0.7353 - accuracy: 0.7489\n",
            "Epoch 10/50\n",
            "1563/1563 [==============================] - 11s 7ms/step - loss: 0.7110 - accuracy: 0.7572\n",
            "Epoch 11/50\n",
            "1563/1563 [==============================] - 11s 7ms/step - loss: 0.6855 - accuracy: 0.7645\n",
            "Epoch 12/50\n",
            "1563/1563 [==============================] - 11s 7ms/step - loss: 0.6620 - accuracy: 0.7730\n",
            "Epoch 13/50\n",
            "1563/1563 [==============================] - 11s 7ms/step - loss: 0.6549 - accuracy: 0.7750\n",
            "Epoch 14/50\n",
            "1563/1563 [==============================] - 11s 7ms/step - loss: 0.6314 - accuracy: 0.7822\n",
            "Epoch 15/50\n",
            "1563/1563 [==============================] - 11s 7ms/step - loss: 0.6180 - accuracy: 0.7883\n",
            "Epoch 16/50\n",
            "1563/1563 [==============================] - 11s 7ms/step - loss: 0.6055 - accuracy: 0.7915\n",
            "Epoch 17/50\n",
            "1563/1563 [==============================] - 11s 7ms/step - loss: 0.5909 - accuracy: 0.7981\n",
            "Epoch 18/50\n",
            "1563/1563 [==============================] - 11s 7ms/step - loss: 0.5856 - accuracy: 0.7975\n",
            "Epoch 19/50\n",
            "1563/1563 [==============================] - 11s 7ms/step - loss: 0.5710 - accuracy: 0.8045\n",
            "Epoch 20/50\n",
            "1563/1563 [==============================] - 11s 7ms/step - loss: 0.5641 - accuracy: 0.8073\n",
            "Epoch 21/50\n",
            "1563/1563 [==============================] - 11s 7ms/step - loss: 0.5480 - accuracy: 0.8098\n",
            "Epoch 22/50\n",
            "1563/1563 [==============================] - 11s 7ms/step - loss: 0.5459 - accuracy: 0.8131\n",
            "Epoch 23/50\n",
            "1563/1563 [==============================] - 11s 7ms/step - loss: 0.5309 - accuracy: 0.8156\n",
            "Epoch 24/50\n",
            "1563/1563 [==============================] - 11s 7ms/step - loss: 0.5300 - accuracy: 0.8177\n",
            "Epoch 25/50\n",
            "1563/1563 [==============================] - 11s 7ms/step - loss: 0.5181 - accuracy: 0.8216\n",
            "Epoch 26/50\n",
            "1563/1563 [==============================] - 11s 7ms/step - loss: 0.5069 - accuracy: 0.8260\n",
            "Epoch 27/50\n",
            "1563/1563 [==============================] - 11s 7ms/step - loss: 0.5076 - accuracy: 0.8255\n",
            "Epoch 28/50\n",
            "1563/1563 [==============================] - 11s 7ms/step - loss: 0.4998 - accuracy: 0.8286\n",
            "Epoch 29/50\n",
            "1563/1563 [==============================] - 11s 7ms/step - loss: 0.4880 - accuracy: 0.8308\n",
            "Epoch 30/50\n",
            "1563/1563 [==============================] - 11s 7ms/step - loss: 0.4822 - accuracy: 0.8326\n",
            "Epoch 31/50\n",
            "1563/1563 [==============================] - 11s 7ms/step - loss: 0.4815 - accuracy: 0.8332\n",
            "Epoch 32/50\n",
            "1563/1563 [==============================] - 11s 7ms/step - loss: 0.4733 - accuracy: 0.8355\n",
            "Epoch 33/50\n",
            "1563/1563 [==============================] - 11s 7ms/step - loss: 0.4625 - accuracy: 0.8400\n",
            "Epoch 34/50\n",
            "1563/1563 [==============================] - 11s 7ms/step - loss: 0.4567 - accuracy: 0.8422\n",
            "Epoch 35/50\n",
            "1563/1563 [==============================] - 11s 7ms/step - loss: 0.4552 - accuracy: 0.8438\n",
            "Epoch 36/50\n",
            "1563/1563 [==============================] - 11s 7ms/step - loss: 0.4513 - accuracy: 0.8431\n",
            "Epoch 37/50\n",
            "1563/1563 [==============================] - 11s 7ms/step - loss: 0.4451 - accuracy: 0.8446\n",
            "Epoch 38/50\n",
            "1563/1563 [==============================] - 11s 7ms/step - loss: 0.4357 - accuracy: 0.8503\n",
            "Epoch 39/50\n",
            "1563/1563 [==============================] - 11s 7ms/step - loss: 0.4389 - accuracy: 0.8487\n",
            "Epoch 40/50\n",
            "1563/1563 [==============================] - 11s 7ms/step - loss: 0.4317 - accuracy: 0.8498\n",
            "Epoch 41/50\n",
            "1563/1563 [==============================] - 11s 7ms/step - loss: 0.4309 - accuracy: 0.8509\n",
            "Epoch 42/50\n",
            "1563/1563 [==============================] - 11s 7ms/step - loss: 0.4220 - accuracy: 0.8516\n",
            "Epoch 43/50\n",
            "1563/1563 [==============================] - 11s 7ms/step - loss: 0.4185 - accuracy: 0.8546\n",
            "Epoch 44/50\n",
            "1563/1563 [==============================] - 11s 7ms/step - loss: 0.4145 - accuracy: 0.8565\n",
            "Epoch 45/50\n",
            "1563/1563 [==============================] - 11s 7ms/step - loss: 0.4071 - accuracy: 0.8593\n",
            "Epoch 46/50\n",
            "1563/1563 [==============================] - 11s 7ms/step - loss: 0.4060 - accuracy: 0.8592\n",
            "Epoch 47/50\n",
            "1563/1563 [==============================] - 11s 7ms/step - loss: 0.4060 - accuracy: 0.8587\n",
            "Epoch 48/50\n",
            "1563/1563 [==============================] - 11s 7ms/step - loss: 0.4002 - accuracy: 0.8615\n",
            "Epoch 49/50\n",
            "1563/1563 [==============================] - 11s 7ms/step - loss: 0.3946 - accuracy: 0.8626\n",
            "Epoch 50/50\n",
            "1563/1563 [==============================] - 11s 7ms/step - loss: 0.3962 - accuracy: 0.8630\n"
          ],
          "name": "stdout"
        },
        {
          "output_type": "execute_result",
          "data": {
            "text/plain": [
              "<tensorflow.python.keras.callbacks.History at 0x7fb43aeaf6d8>"
            ]
          },
          "metadata": {
            "tags": []
          },
          "execution_count": 50
        }
      ]
    },
    {
      "cell_type": "code",
      "metadata": {
        "id": "_9gaoywg4bT9",
        "colab": {
          "base_uri": "https://localhost:8080/"
        },
        "outputId": "ab185ff9-3f76-4f66-f522-b1234a275dad"
      },
      "source": [
        "#Return 0.78 accuracy\n",
        "cnn.evaluate(X_test,y_test)"
      ],
      "execution_count": 51,
      "outputs": [
        {
          "output_type": "stream",
          "text": [
            "313/313 [==============================] - 1s 3ms/step - loss: 0.5805 - accuracy: 0.8113\n"
          ],
          "name": "stdout"
        },
        {
          "output_type": "execute_result",
          "data": {
            "text/plain": [
              "[0.5805236101150513, 0.8112999796867371]"
            ]
          },
          "metadata": {
            "tags": []
          },
          "execution_count": 51
        }
      ]
    },
    {
      "cell_type": "code",
      "metadata": {
        "id": "ipMbVy3E6XnW"
      },
      "source": [
        "y_pred = cnn.predict(X_test)"
      ],
      "execution_count": 52,
      "outputs": []
    },
    {
      "cell_type": "code",
      "metadata": {
        "id": "dipYAgM77jQe"
      },
      "source": [
        "y_predicted_classes = [np.argmax(img) for img in y_pred] "
      ],
      "execution_count": 53,
      "outputs": []
    },
    {
      "cell_type": "markdown",
      "metadata": {
        "id": "FPzOAGOXGIoj"
      },
      "source": [
        "# Predictions"
      ]
    },
    {
      "cell_type": "code",
      "metadata": {
        "id": "aUX6EpvQ7rVA",
        "colab": {
          "base_uri": "https://localhost:8080/",
          "height": 173
        },
        "outputId": "759ca5cb-b8d8-4d66-e115-bd241ba12436"
      },
      "source": [
        "plot_image(X_test,y_predicted_classes, 7)"
      ],
      "execution_count": 54,
      "outputs": [
        {
          "output_type": "display_data",
          "data": {
            "image/png": "[encoded data removed]",
            "text/plain": [
              "<Figure size 144x144 with 1 Axes>"
            ]
          },
          "metadata": {
            "tags": [],
            "needs_background": "light"
          }
        }
      ]
    },
    {
      "cell_type": "code",
      "metadata": {
        "id": "Ra0li9KP8oZx",
        "colab": {
          "base_uri": "https://localhost:8080/",
          "height": 173
        },
        "outputId": "493d66aa-6bb1-4c8f-b0ee-9576a0a821b6"
      },
      "source": [
        "plot_image(X_test,y_predicted_classes, 8)"
      ],
      "execution_count": 55,
      "outputs": [
        {
          "output_type": "display_data",
          "data": {
            "image/png": "[encoded data removed]",
            "text/plain": [
              "<Figure size 144x144 with 1 Axes>"
            ]
          },
          "metadata": {
            "tags": [],
            "needs_background": "light"
          }
        }
      ]
    },
    {
      "cell_type": "markdown",
      "metadata": {
        "id": "P1ASP6kS7UUK"
      },
      "source": [
        "# Resnet"
      ]
    },
    {
      "cell_type": "code",
      "metadata": {
        "id": "ET5YbkbJydI8"
      },
      "source": [
        "def identity_block(X, f, filters, stage, block):\n",
        "    # defining name basis\n",
        "    conv_name_base = 'res' + str(stage) + block + '_branch'\n",
        "    bn_name_base = 'bn' + str(stage) + block + '_branch'\n",
        "\n",
        "    # Retrieve Filters\n",
        "    F1, F2, F3 = filters\n",
        "\n",
        "    # Save the input value. We'll need this later to add back to the main path. \n",
        "    X_shortcut = X\n",
        "\n",
        "    # First component of main path\n",
        "    X = Conv2D(filters = F1, kernel_size = (1, 1), strides = (1,1), padding = 'valid', name = conv_name_base + '2a', kernel_initializer = glorot_uniform(seed=0))(X)\n",
        "    X = BatchNormalization(axis = 3, name = bn_name_base + '2a')(X)\n",
        "    X = Activation('relu')(X)\n",
        "\n",
        "    # Second component of main path\n",
        "    X = Conv2D(filters = F2, kernel_size = (f, f), strides = (1,1), padding = 'same', name = conv_name_base + '2b', kernel_initializer = glorot_uniform(seed=0))(X)\n",
        "    X = BatchNormalization(axis = 3, name = bn_name_base + '2b')(X)\n",
        "    X = Activation('relu')(X)\n",
        "\n",
        "    # Third component of main path\n",
        "    X = Conv2D(filters = F3, kernel_size = (1, 1), strides = (1,1), padding = 'valid', name = conv_name_base + '2c', kernel_initializer = glorot_uniform(seed=0))(X)\n",
        "    X = BatchNormalization(axis = 3, name = bn_name_base + '2c')(X)\n",
        "\n",
        "    # Final step: Add shortcut value to main path, and pass it through a RELU activation\n",
        "    X = Add()([X, X_shortcut])\n",
        "    X = Activation('relu')(X)\n",
        "\n",
        "    return X"
      ],
      "execution_count": 11,
      "outputs": []
    },
    {
      "cell_type": "code",
      "metadata": {
        "id": "P1AMAg6gygJT"
      },
      "source": [
        "def convolutional_block(X, f, filters, stage, block, s = 2):\n",
        "    # defining name basis\n",
        "    conv_name_base = 'res' + str(stage) + block + '_branch'\n",
        "    bn_name_base = 'bn' + str(stage) + block + '_branch'\n",
        "    \n",
        "    # Retrieve Filters\n",
        "    F1, F2, F3 = filters\n",
        "    \n",
        "    # Save the input value\n",
        "    X_shortcut = X\n",
        "\n",
        "\n",
        "    ##### MAIN PATH #####\n",
        "    # First component of main path \n",
        "    X = Conv2D(F1, (1, 1), strides = (s,s), name = conv_name_base + '2a', kernel_initializer = glorot_uniform(seed=0))(X)\n",
        "    X = BatchNormalization(axis = 3, name = bn_name_base + '2a')(X)\n",
        "    X = Activation('relu')(X)\n",
        "\n",
        "    # Second component of main path\n",
        "    X = Conv2D(filters=F2, kernel_size=(f, f), strides=(1, 1), padding='same', name=conv_name_base + '2b', kernel_initializer=glorot_uniform(seed=0))(X)\n",
        "    X = BatchNormalization(axis=3, name=bn_name_base + '2b')(X)\n",
        "    X = Activation('relu')(X)\n",
        "\n",
        "    # Third component of main path\n",
        "    X = Conv2D(filters=F3, kernel_size=(1, 1), strides=(1, 1), padding='valid', name=conv_name_base + '2c', kernel_initializer=glorot_uniform(seed=0))(X)\n",
        "    X = BatchNormalization(axis=3, name=bn_name_base + '2c')(X)\n",
        "\n",
        "    \n",
        "    ##### SHORTCUT PATH ####\n",
        "    X_shortcut = Conv2D(F3, (1, 1), strides = (s,s), name = conv_name_base + '1', kernel_initializer = glorot_uniform(seed=0))(X_shortcut)\n",
        "    X_shortcut = BatchNormalization(axis = 3, name = bn_name_base + '1')(X_shortcut)\n",
        "\n",
        "    # Final step: Add shortcut value to main path, and pass it through a RELU activation\n",
        "    X = Add()([X, X_shortcut])\n",
        "    X = Activation('relu')(X)\n",
        "    \n",
        "    return X"
      ],
      "execution_count": 12,
      "outputs": []
    },
    {
      "cell_type": "code",
      "metadata": {
        "id": "BxjF3AP3kRMz"
      },
      "source": [
        "def ResNet50(input_shape = (32, 32, 3), classes = 6):   \n",
        "    # Define the input as a tensor with shape input_shape\n",
        "    X_input = Input(input_shape)\n",
        "    # Zero-Padding\n",
        "    X = ZeroPadding2D((3, 3))(X_input)\n",
        "    \n",
        "    #UpSampling - makes the 32X32 shape works with Resnet Pooling layers\n",
        "    X = layers.UpSampling2D((2,2))(X)\n",
        "    X = layers.UpSampling2D((2,2))(X)\n",
        "    X = layers.UpSampling2D((2,2))(X)\n",
        "\n",
        "    # Stage 1\n",
        "    X = Conv2D(64, (7, 7), strides = (2, 2), name = 'conv1', kernel_initializer = glorot_uniform(seed=0))(X)\n",
        "    X = BatchNormalization(axis = 3, name = 'bn_conv1')(X)\n",
        "    X = Activation('relu')(X)\n",
        "    X = MaxPooling2D((3, 3), strides=(2, 2))(X)\n",
        "\n",
        "    # Stage 2\n",
        "    X = convolutional_block(X, f = 3, filters = [64, 64, 256], stage = 2, block='a', s = 1)\n",
        "    X = identity_block(X, 3, [64, 64, 256], stage=2, block='b')\n",
        "    X = identity_block(X, 3, [64, 64, 256], stage=2, block='c')\n",
        "\n",
        "    # Stage 3\n",
        "    X = convolutional_block(X, f = 3, filters = [128, 128, 512], stage = 3, block='a', s = 2)\n",
        "    X = identity_block(X, 3, [128, 128, 512], stage=3, block='b')\n",
        "    X = identity_block(X, 3, [128, 128, 512], stage=3, block='c')\n",
        "    X = identity_block(X, 3, [128, 128, 512], stage=3, block='d')\n",
        "\n",
        "    # Stage 4\n",
        "    X = convolutional_block(X, f = 3, filters = [256, 256, 1024], stage = 4, block='a', s = 2)\n",
        "    X = identity_block(X, 3, [256, 256, 1024], stage=4, block='b')\n",
        "    X = identity_block(X, 3, [256, 256, 1024], stage=4, block='c')\n",
        "    X = identity_block(X, 3, [256, 256, 1024], stage=4, block='d')\n",
        "    X = identity_block(X, 3, [256, 256, 1024], stage=4, block='e')\n",
        "    X = identity_block(X, 3, [256, 256, 1024], stage=4, block='f')\n",
        "\n",
        "    # Stage 5\n",
        "    X = convolutional_block(X, f = 3, filters = [512, 512, 2048], stage = 5, block='a', s = 2)\n",
        "    X = identity_block(X, 3, [512, 512, 2048], stage=5, block='b')\n",
        "    X = identity_block(X, 3, [512, 512, 2048], stage=5, block='c')\n",
        "\n",
        "    # AVGPOOL.\n",
        "    X = AveragePooling2D((2, 2), name='avg_pool')(X)\n",
        "\n",
        "    # output layer\n",
        "    X = Flatten()(X)\n",
        "    X = Dropout(0.3)(X)\n",
        "    X = Dense(classes, activation='softmax', name='fc' + str(classes), kernel_initializer = glorot_uniform(seed=0))(X)\n",
        "    \n",
        "    # Create model\n",
        "    model = Model(inputs = X_input, outputs = X, name='ResNet50')\n",
        "\n",
        "    return model"
      ],
      "execution_count": 13,
      "outputs": []
    },
    {
      "cell_type": "code",
      "metadata": {
        "id": "UoG_-XD4kUkz"
      },
      "source": [
        "resnet = ResNet50(input_shape=(256, 256, 3), classes = 10)\n",
        "model.compile(optimizer='adam', loss='sparse_categorical_crossentropy', metrics=['accuracy'])\n",
        "model.summary()"
      ],
      "execution_count": 15,
      "outputs": []
    },
    {
      "cell_type": "code",
      "metadata": {
        "id": "KlSsoZ5alOHK",
        "colab": {
          "base_uri": "https://localhost:8080/"
        },
        "outputId": "51ca0898-c153-4a36-b3d2-355d17cc6509"
      },
      "source": [
        "#Return 0.73 accuracy\n",
        "model.fit(X_train, y_train, epochs = 10, batch_size = 64,validation_data=(X_test, y_test), shuffle=True)"
      ],
      "execution_count": null,
      "outputs": [
        {
          "output_type": "stream",
          "text": [
            "Epoch 1/10\n"
          ],
          "name": "stdout"
        }
      ]
    },
    {
      "cell_type": "markdown",
      "metadata": {
        "id": "82kmVaegdqA7"
      },
      "source": [
        "# DenseNet"
      ]
    },
    {
      "cell_type": "code",
      "metadata": {
        "id": "_hH6HQjFlgt7"
      },
      "source": [
        "import tensorflow as tf\n",
        "from tensorflow.keras.layers import Input, Conv2D, BatchNormalization, Dense\n",
        "from tensorflow.keras.layers import AvgPool2D, GlobalAveragePooling2D, MaxPool2D\n",
        "from tensorflow.keras.models import Model\n",
        "from tensorflow.keras.layers import ReLU, concatenate\n",
        "import tensorflow.keras.backend as K\n",
        "\n",
        "# Creating Densenet121\n",
        "def densenet(input_shape, n_classes, filters = 32):\n",
        "    \n",
        "    #batch norm + relu + conv\n",
        "    def bn_rl_conv(x,filters,kernel=1,strides=1):\n",
        "        \n",
        "        x = BatchNormalization()(x)\n",
        "        x = ReLU()(x)\n",
        "        x = Conv2D(filters, kernel, strides=strides,padding = 'same')(x)\n",
        "        return x\n",
        "    \n",
        "    def dense_block(x, repetition):\n",
        "        \n",
        "        for _ in range(repetition):\n",
        "            y = bn_rl_conv(x, 4*filters)\n",
        "            y = bn_rl_conv(y, filters, 3)\n",
        "            x = concatenate([y,x])\n",
        "        return x\n",
        "        \n",
        "    def transition_layer(x):\n",
        "        \n",
        "        x = bn_rl_conv(x, K.int_shape(x)[-1] //2 )\n",
        "        x = AvgPool2D(2, strides = 2, padding = 'same')(x)\n",
        "        return x\n",
        "    \n",
        "    input = Input (input_shape)\n",
        "    x = Conv2D(64, 7, strides = 2, padding = 'same')(input)\n",
        "    x = MaxPool2D(3, strides = 2, padding = 'same')(x)\n",
        "    \n",
        "    for repetition in [6,12,24,16]:\n",
        "        \n",
        "        d = dense_block(x, repetition)\n",
        "        x = transition_layer(d)\n",
        "    x = GlobalAveragePooling2D()(d)\n",
        "\n",
        "    output = Dense(n_classes, activation = 'softmax')(x)\n",
        "    \n",
        "    model = Model(input, output)\n",
        "    return model\n"
      ],
      "execution_count": null,
      "outputs": []
    },
    {
      "cell_type": "code",
      "metadata": {
        "colab": {
          "base_uri": "https://localhost:8080/"
        },
        "id": "SNnZidg4qWs8",
        "outputId": "2e0b379e-5676-4516-f95e-004eed460eba"
      },
      "source": [
        "model = densenet((32,32,3),10)\n",
        "model.compile(optimizer='adam', loss='sparse_categorical_crossentropy', metrics=['accuracy'])\n",
        "model.summary()"
      ],
      "execution_count": null,
      "outputs": [
        {
          "output_type": "stream",
          "text": [
            "Model: \"functional_5\"\n",
            "__________________________________________________________________________________________________\n",
            "Layer (type)                    Output Shape         Param #     Connected to                     \n",
            "==================================================================================================\n",
            "input_7 (InputLayer)            [(None, 32, 32, 3)]  0                                            \n",
            "__________________________________________________________________________________________________\n",
            "conv2d_257 (Conv2D)             (None, 16, 16, 64)   9472        input_7[0][0]                    \n",
            "__________________________________________________________________________________________________\n",
            "max_pooling2d_14 (MaxPooling2D) (None, 8, 8, 64)     0           conv2d_257[0][0]                 \n",
            "__________________________________________________________________________________________________\n",
            "batch_normalization_274 (BatchN (None, 8, 8, 64)     256         max_pooling2d_14[0][0]           \n",
            "__________________________________________________________________________________________________\n",
            "re_lu_240 (ReLU)                (None, 8, 8, 64)     0           batch_normalization_274[0][0]    \n",
            "__________________________________________________________________________________________________\n",
            "conv2d_258 (Conv2D)             (None, 8, 8, 128)    8320        re_lu_240[0][0]                  \n",
            "__________________________________________________________________________________________________\n",
            "batch_normalization_275 (BatchN (None, 8, 8, 128)    512         conv2d_258[0][0]                 \n",
            "__________________________________________________________________________________________________\n",
            "re_lu_241 (ReLU)                (None, 8, 8, 128)    0           batch_normalization_275[0][0]    \n",
            "__________________________________________________________________________________________________\n",
            "conv2d_259 (Conv2D)             (None, 8, 8, 32)     36896       re_lu_241[0][0]                  \n",
            "__________________________________________________________________________________________________\n",
            "concatenate_116 (Concatenate)   (None, 8, 8, 96)     0           conv2d_259[0][0]                 \n",
            "                                                                 max_pooling2d_14[0][0]           \n",
            "__________________________________________________________________________________________________\n",
            "batch_normalization_276 (BatchN (None, 8, 8, 96)     384         concatenate_116[0][0]            \n",
            "__________________________________________________________________________________________________\n",
            "re_lu_242 (ReLU)                (None, 8, 8, 96)     0           batch_normalization_276[0][0]    \n",
            "__________________________________________________________________________________________________\n",
            "conv2d_260 (Conv2D)             (None, 8, 8, 128)    12416       re_lu_242[0][0]                  \n",
            "__________________________________________________________________________________________________\n",
            "batch_normalization_277 (BatchN (None, 8, 8, 128)    512         conv2d_260[0][0]                 \n",
            "__________________________________________________________________________________________________\n",
            "re_lu_243 (ReLU)                (None, 8, 8, 128)    0           batch_normalization_277[0][0]    \n",
            "__________________________________________________________________________________________________\n",
            "conv2d_261 (Conv2D)             (None, 8, 8, 32)     36896       re_lu_243[0][0]                  \n",
            "__________________________________________________________________________________________________\n",
            "concatenate_117 (Concatenate)   (None, 8, 8, 128)    0           conv2d_261[0][0]                 \n",
            "                                                                 concatenate_116[0][0]            \n",
            "__________________________________________________________________________________________________\n",
            "batch_normalization_278 (BatchN (None, 8, 8, 128)    512         concatenate_117[0][0]            \n",
            "__________________________________________________________________________________________________\n",
            "re_lu_244 (ReLU)                (None, 8, 8, 128)    0           batch_normalization_278[0][0]    \n",
            "__________________________________________________________________________________________________\n",
            "conv2d_262 (Conv2D)             (None, 8, 8, 128)    16512       re_lu_244[0][0]                  \n",
            "__________________________________________________________________________________________________\n",
            "batch_normalization_279 (BatchN (None, 8, 8, 128)    512         conv2d_262[0][0]                 \n",
            "__________________________________________________________________________________________________\n",
            "re_lu_245 (ReLU)                (None, 8, 8, 128)    0           batch_normalization_279[0][0]    \n",
            "__________________________________________________________________________________________________\n",
            "conv2d_263 (Conv2D)             (None, 8, 8, 32)     36896       re_lu_245[0][0]                  \n",
            "__________________________________________________________________________________________________\n",
            "concatenate_118 (Concatenate)   (None, 8, 8, 160)    0           conv2d_263[0][0]                 \n",
            "                                                                 concatenate_117[0][0]            \n",
            "__________________________________________________________________________________________________\n",
            "batch_normalization_280 (BatchN (None, 8, 8, 160)    640         concatenate_118[0][0]            \n",
            "__________________________________________________________________________________________________\n",
            "re_lu_246 (ReLU)                (None, 8, 8, 160)    0           batch_normalization_280[0][0]    \n",
            "__________________________________________________________________________________________________\n",
            "conv2d_264 (Conv2D)             (None, 8, 8, 128)    20608       re_lu_246[0][0]                  \n",
            "__________________________________________________________________________________________________\n",
            "batch_normalization_281 (BatchN (None, 8, 8, 128)    512         conv2d_264[0][0]                 \n",
            "__________________________________________________________________________________________________\n",
            "re_lu_247 (ReLU)                (None, 8, 8, 128)    0           batch_normalization_281[0][0]    \n",
            "__________________________________________________________________________________________________\n",
            "conv2d_265 (Conv2D)             (None, 8, 8, 32)     36896       re_lu_247[0][0]                  \n",
            "__________________________________________________________________________________________________\n",
            "concatenate_119 (Concatenate)   (None, 8, 8, 192)    0           conv2d_265[0][0]                 \n",
            "                                                                 concatenate_118[0][0]            \n",
            "__________________________________________________________________________________________________\n",
            "batch_normalization_282 (BatchN (None, 8, 8, 192)    768         concatenate_119[0][0]            \n",
            "__________________________________________________________________________________________________\n",
            "re_lu_248 (ReLU)                (None, 8, 8, 192)    0           batch_normalization_282[0][0]    \n",
            "__________________________________________________________________________________________________\n",
            "conv2d_266 (Conv2D)             (None, 8, 8, 128)    24704       re_lu_248[0][0]                  \n",
            "__________________________________________________________________________________________________\n",
            "batch_normalization_283 (BatchN (None, 8, 8, 128)    512         conv2d_266[0][0]                 \n",
            "__________________________________________________________________________________________________\n",
            "re_lu_249 (ReLU)                (None, 8, 8, 128)    0           batch_normalization_283[0][0]    \n",
            "__________________________________________________________________________________________________\n",
            "conv2d_267 (Conv2D)             (None, 8, 8, 32)     36896       re_lu_249[0][0]                  \n",
            "__________________________________________________________________________________________________\n",
            "concatenate_120 (Concatenate)   (None, 8, 8, 224)    0           conv2d_267[0][0]                 \n",
            "                                                                 concatenate_119[0][0]            \n",
            "__________________________________________________________________________________________________\n",
            "batch_normalization_284 (BatchN (None, 8, 8, 224)    896         concatenate_120[0][0]            \n",
            "__________________________________________________________________________________________________\n",
            "re_lu_250 (ReLU)                (None, 8, 8, 224)    0           batch_normalization_284[0][0]    \n",
            "__________________________________________________________________________________________________\n",
            "conv2d_268 (Conv2D)             (None, 8, 8, 128)    28800       re_lu_250[0][0]                  \n",
            "__________________________________________________________________________________________________\n",
            "batch_normalization_285 (BatchN (None, 8, 8, 128)    512         conv2d_268[0][0]                 \n",
            "__________________________________________________________________________________________________\n",
            "re_lu_251 (ReLU)                (None, 8, 8, 128)    0           batch_normalization_285[0][0]    \n",
            "__________________________________________________________________________________________________\n",
            "conv2d_269 (Conv2D)             (None, 8, 8, 32)     36896       re_lu_251[0][0]                  \n",
            "__________________________________________________________________________________________________\n",
            "concatenate_121 (Concatenate)   (None, 8, 8, 256)    0           conv2d_269[0][0]                 \n",
            "                                                                 concatenate_120[0][0]            \n",
            "__________________________________________________________________________________________________\n",
            "batch_normalization_286 (BatchN (None, 8, 8, 256)    1024        concatenate_121[0][0]            \n",
            "__________________________________________________________________________________________________\n",
            "re_lu_252 (ReLU)                (None, 8, 8, 256)    0           batch_normalization_286[0][0]    \n",
            "__________________________________________________________________________________________________\n",
            "conv2d_270 (Conv2D)             (None, 8, 8, 128)    32896       re_lu_252[0][0]                  \n",
            "__________________________________________________________________________________________________\n",
            "average_pooling2d_8 (AveragePoo (None, 4, 4, 128)    0           conv2d_270[0][0]                 \n",
            "__________________________________________________________________________________________________\n",
            "batch_normalization_287 (BatchN (None, 4, 4, 128)    512         average_pooling2d_8[0][0]        \n",
            "__________________________________________________________________________________________________\n",
            "re_lu_253 (ReLU)                (None, 4, 4, 128)    0           batch_normalization_287[0][0]    \n",
            "__________________________________________________________________________________________________\n",
            "conv2d_271 (Conv2D)             (None, 4, 4, 128)    16512       re_lu_253[0][0]                  \n",
            "__________________________________________________________________________________________________\n",
            "batch_normalization_288 (BatchN (None, 4, 4, 128)    512         conv2d_271[0][0]                 \n",
            "__________________________________________________________________________________________________\n",
            "re_lu_254 (ReLU)                (None, 4, 4, 128)    0           batch_normalization_288[0][0]    \n",
            "__________________________________________________________________________________________________\n",
            "conv2d_272 (Conv2D)             (None, 4, 4, 32)     36896       re_lu_254[0][0]                  \n",
            "__________________________________________________________________________________________________\n",
            "concatenate_122 (Concatenate)   (None, 4, 4, 160)    0           conv2d_272[0][0]                 \n",
            "                                                                 average_pooling2d_8[0][0]        \n",
            "__________________________________________________________________________________________________\n",
            "batch_normalization_289 (BatchN (None, 4, 4, 160)    640         concatenate_122[0][0]            \n",
            "__________________________________________________________________________________________________\n",
            "re_lu_255 (ReLU)                (None, 4, 4, 160)    0           batch_normalization_289[0][0]    \n",
            "__________________________________________________________________________________________________\n",
            "conv2d_273 (Conv2D)             (None, 4, 4, 128)    20608       re_lu_255[0][0]                  \n",
            "__________________________________________________________________________________________________\n",
            "batch_normalization_290 (BatchN (None, 4, 4, 128)    512         conv2d_273[0][0]                 \n",
            "__________________________________________________________________________________________________\n",
            "re_lu_256 (ReLU)                (None, 4, 4, 128)    0           batch_normalization_290[0][0]    \n",
            "__________________________________________________________________________________________________\n",
            "conv2d_274 (Conv2D)             (None, 4, 4, 32)     36896       re_lu_256[0][0]                  \n",
            "__________________________________________________________________________________________________\n",
            "concatenate_123 (Concatenate)   (None, 4, 4, 192)    0           conv2d_274[0][0]                 \n",
            "                                                                 concatenate_122[0][0]            \n",
            "__________________________________________________________________________________________________\n",
            "batch_normalization_291 (BatchN (None, 4, 4, 192)    768         concatenate_123[0][0]            \n",
            "__________________________________________________________________________________________________\n",
            "re_lu_257 (ReLU)                (None, 4, 4, 192)    0           batch_normalization_291[0][0]    \n",
            "__________________________________________________________________________________________________\n",
            "conv2d_275 (Conv2D)             (None, 4, 4, 128)    24704       re_lu_257[0][0]                  \n",
            "__________________________________________________________________________________________________\n",
            "batch_normalization_292 (BatchN (None, 4, 4, 128)    512         conv2d_275[0][0]                 \n",
            "__________________________________________________________________________________________________\n",
            "re_lu_258 (ReLU)                (None, 4, 4, 128)    0           batch_normalization_292[0][0]    \n",
            "__________________________________________________________________________________________________\n",
            "conv2d_276 (Conv2D)             (None, 4, 4, 32)     36896       re_lu_258[0][0]                  \n",
            "__________________________________________________________________________________________________\n",
            "concatenate_124 (Concatenate)   (None, 4, 4, 224)    0           conv2d_276[0][0]                 \n",
            "                                                                 concatenate_123[0][0]            \n",
            "__________________________________________________________________________________________________\n",
            "batch_normalization_293 (BatchN (None, 4, 4, 224)    896         concatenate_124[0][0]            \n",
            "__________________________________________________________________________________________________\n",
            "re_lu_259 (ReLU)                (None, 4, 4, 224)    0           batch_normalization_293[0][0]    \n",
            "__________________________________________________________________________________________________\n",
            "conv2d_277 (Conv2D)             (None, 4, 4, 128)    28800       re_lu_259[0][0]                  \n",
            "__________________________________________________________________________________________________\n",
            "batch_normalization_294 (BatchN (None, 4, 4, 128)    512         conv2d_277[0][0]                 \n",
            "__________________________________________________________________________________________________\n",
            "re_lu_260 (ReLU)                (None, 4, 4, 128)    0           batch_normalization_294[0][0]    \n",
            "__________________________________________________________________________________________________\n",
            "conv2d_278 (Conv2D)             (None, 4, 4, 32)     36896       re_lu_260[0][0]                  \n",
            "__________________________________________________________________________________________________\n",
            "concatenate_125 (Concatenate)   (None, 4, 4, 256)    0           conv2d_278[0][0]                 \n",
            "                                                                 concatenate_124[0][0]            \n",
            "__________________________________________________________________________________________________\n",
            "batch_normalization_295 (BatchN (None, 4, 4, 256)    1024        concatenate_125[0][0]            \n",
            "__________________________________________________________________________________________________\n",
            "re_lu_261 (ReLU)                (None, 4, 4, 256)    0           batch_normalization_295[0][0]    \n",
            "__________________________________________________________________________________________________\n",
            "conv2d_279 (Conv2D)             (None, 4, 4, 128)    32896       re_lu_261[0][0]                  \n",
            "__________________________________________________________________________________________________\n",
            "batch_normalization_296 (BatchN (None, 4, 4, 128)    512         conv2d_279[0][0]                 \n",
            "__________________________________________________________________________________________________\n",
            "re_lu_262 (ReLU)                (None, 4, 4, 128)    0           batch_normalization_296[0][0]    \n",
            "__________________________________________________________________________________________________\n",
            "conv2d_280 (Conv2D)             (None, 4, 4, 32)     36896       re_lu_262[0][0]                  \n",
            "__________________________________________________________________________________________________\n",
            "concatenate_126 (Concatenate)   (None, 4, 4, 288)    0           conv2d_280[0][0]                 \n",
            "                                                                 concatenate_125[0][0]            \n",
            "__________________________________________________________________________________________________\n",
            "batch_normalization_297 (BatchN (None, 4, 4, 288)    1152        concatenate_126[0][0]            \n",
            "__________________________________________________________________________________________________\n",
            "re_lu_263 (ReLU)                (None, 4, 4, 288)    0           batch_normalization_297[0][0]    \n",
            "__________________________________________________________________________________________________\n",
            "conv2d_281 (Conv2D)             (None, 4, 4, 128)    36992       re_lu_263[0][0]                  \n",
            "__________________________________________________________________________________________________\n",
            "batch_normalization_298 (BatchN (None, 4, 4, 128)    512         conv2d_281[0][0]                 \n",
            "__________________________________________________________________________________________________\n",
            "re_lu_264 (ReLU)                (None, 4, 4, 128)    0           batch_normalization_298[0][0]    \n",
            "__________________________________________________________________________________________________\n",
            "conv2d_282 (Conv2D)             (None, 4, 4, 32)     36896       re_lu_264[0][0]                  \n",
            "__________________________________________________________________________________________________\n",
            "concatenate_127 (Concatenate)   (None, 4, 4, 320)    0           conv2d_282[0][0]                 \n",
            "                                                                 concatenate_126[0][0]            \n",
            "__________________________________________________________________________________________________\n",
            "batch_normalization_299 (BatchN (None, 4, 4, 320)    1280        concatenate_127[0][0]            \n",
            "__________________________________________________________________________________________________\n",
            "re_lu_265 (ReLU)                (None, 4, 4, 320)    0           batch_normalization_299[0][0]    \n",
            "__________________________________________________________________________________________________\n",
            "conv2d_283 (Conv2D)             (None, 4, 4, 128)    41088       re_lu_265[0][0]                  \n",
            "__________________________________________________________________________________________________\n",
            "batch_normalization_300 (BatchN (None, 4, 4, 128)    512         conv2d_283[0][0]                 \n",
            "__________________________________________________________________________________________________\n",
            "re_lu_266 (ReLU)                (None, 4, 4, 128)    0           batch_normalization_300[0][0]    \n",
            "__________________________________________________________________________________________________\n",
            "conv2d_284 (Conv2D)             (None, 4, 4, 32)     36896       re_lu_266[0][0]                  \n",
            "__________________________________________________________________________________________________\n",
            "concatenate_128 (Concatenate)   (None, 4, 4, 352)    0           conv2d_284[0][0]                 \n",
            "                                                                 concatenate_127[0][0]            \n",
            "__________________________________________________________________________________________________\n",
            "batch_normalization_301 (BatchN (None, 4, 4, 352)    1408        concatenate_128[0][0]            \n",
            "__________________________________________________________________________________________________\n",
            "re_lu_267 (ReLU)                (None, 4, 4, 352)    0           batch_normalization_301[0][0]    \n",
            "__________________________________________________________________________________________________\n",
            "conv2d_285 (Conv2D)             (None, 4, 4, 128)    45184       re_lu_267[0][0]                  \n",
            "__________________________________________________________________________________________________\n",
            "batch_normalization_302 (BatchN (None, 4, 4, 128)    512         conv2d_285[0][0]                 \n",
            "__________________________________________________________________________________________________\n",
            "re_lu_268 (ReLU)                (None, 4, 4, 128)    0           batch_normalization_302[0][0]    \n",
            "__________________________________________________________________________________________________\n",
            "conv2d_286 (Conv2D)             (None, 4, 4, 32)     36896       re_lu_268[0][0]                  \n",
            "__________________________________________________________________________________________________\n",
            "concatenate_129 (Concatenate)   (None, 4, 4, 384)    0           conv2d_286[0][0]                 \n",
            "                                                                 concatenate_128[0][0]            \n",
            "__________________________________________________________________________________________________\n",
            "batch_normalization_303 (BatchN (None, 4, 4, 384)    1536        concatenate_129[0][0]            \n",
            "__________________________________________________________________________________________________\n",
            "re_lu_269 (ReLU)                (None, 4, 4, 384)    0           batch_normalization_303[0][0]    \n",
            "__________________________________________________________________________________________________\n",
            "conv2d_287 (Conv2D)             (None, 4, 4, 128)    49280       re_lu_269[0][0]                  \n",
            "__________________________________________________________________________________________________\n",
            "batch_normalization_304 (BatchN (None, 4, 4, 128)    512         conv2d_287[0][0]                 \n",
            "__________________________________________________________________________________________________\n",
            "re_lu_270 (ReLU)                (None, 4, 4, 128)    0           batch_normalization_304[0][0]    \n",
            "__________________________________________________________________________________________________\n",
            "conv2d_288 (Conv2D)             (None, 4, 4, 32)     36896       re_lu_270[0][0]                  \n",
            "__________________________________________________________________________________________________\n",
            "concatenate_130 (Concatenate)   (None, 4, 4, 416)    0           conv2d_288[0][0]                 \n",
            "                                                                 concatenate_129[0][0]            \n",
            "__________________________________________________________________________________________________\n",
            "batch_normalization_305 (BatchN (None, 4, 4, 416)    1664        concatenate_130[0][0]            \n",
            "__________________________________________________________________________________________________\n",
            "re_lu_271 (ReLU)                (None, 4, 4, 416)    0           batch_normalization_305[0][0]    \n",
            "__________________________________________________________________________________________________\n",
            "conv2d_289 (Conv2D)             (None, 4, 4, 128)    53376       re_lu_271[0][0]                  \n",
            "__________________________________________________________________________________________________\n",
            "batch_normalization_306 (BatchN (None, 4, 4, 128)    512         conv2d_289[0][0]                 \n",
            "__________________________________________________________________________________________________\n",
            "re_lu_272 (ReLU)                (None, 4, 4, 128)    0           batch_normalization_306[0][0]    \n",
            "__________________________________________________________________________________________________\n",
            "conv2d_290 (Conv2D)             (None, 4, 4, 32)     36896       re_lu_272[0][0]                  \n",
            "__________________________________________________________________________________________________\n",
            "concatenate_131 (Concatenate)   (None, 4, 4, 448)    0           conv2d_290[0][0]                 \n",
            "                                                                 concatenate_130[0][0]            \n",
            "__________________________________________________________________________________________________\n",
            "batch_normalization_307 (BatchN (None, 4, 4, 448)    1792        concatenate_131[0][0]            \n",
            "__________________________________________________________________________________________________\n",
            "re_lu_273 (ReLU)                (None, 4, 4, 448)    0           batch_normalization_307[0][0]    \n",
            "__________________________________________________________________________________________________\n",
            "conv2d_291 (Conv2D)             (None, 4, 4, 128)    57472       re_lu_273[0][0]                  \n",
            "__________________________________________________________________________________________________\n",
            "batch_normalization_308 (BatchN (None, 4, 4, 128)    512         conv2d_291[0][0]                 \n",
            "__________________________________________________________________________________________________\n",
            "re_lu_274 (ReLU)                (None, 4, 4, 128)    0           batch_normalization_308[0][0]    \n",
            "__________________________________________________________________________________________________\n",
            "conv2d_292 (Conv2D)             (None, 4, 4, 32)     36896       re_lu_274[0][0]                  \n",
            "__________________________________________________________________________________________________\n",
            "concatenate_132 (Concatenate)   (None, 4, 4, 480)    0           conv2d_292[0][0]                 \n",
            "                                                                 concatenate_131[0][0]            \n",
            "__________________________________________________________________________________________________\n",
            "batch_normalization_309 (BatchN (None, 4, 4, 480)    1920        concatenate_132[0][0]            \n",
            "__________________________________________________________________________________________________\n",
            "re_lu_275 (ReLU)                (None, 4, 4, 480)    0           batch_normalization_309[0][0]    \n",
            "__________________________________________________________________________________________________\n",
            "conv2d_293 (Conv2D)             (None, 4, 4, 128)    61568       re_lu_275[0][0]                  \n",
            "__________________________________________________________________________________________________\n",
            "batch_normalization_310 (BatchN (None, 4, 4, 128)    512         conv2d_293[0][0]                 \n",
            "__________________________________________________________________________________________________\n",
            "re_lu_276 (ReLU)                (None, 4, 4, 128)    0           batch_normalization_310[0][0]    \n",
            "__________________________________________________________________________________________________\n",
            "conv2d_294 (Conv2D)             (None, 4, 4, 32)     36896       re_lu_276[0][0]                  \n",
            "__________________________________________________________________________________________________\n",
            "concatenate_133 (Concatenate)   (None, 4, 4, 512)    0           conv2d_294[0][0]                 \n",
            "                                                                 concatenate_132[0][0]            \n",
            "__________________________________________________________________________________________________\n",
            "batch_normalization_311 (BatchN (None, 4, 4, 512)    2048        concatenate_133[0][0]            \n",
            "__________________________________________________________________________________________________\n",
            "re_lu_277 (ReLU)                (None, 4, 4, 512)    0           batch_normalization_311[0][0]    \n",
            "__________________________________________________________________________________________________\n",
            "conv2d_295 (Conv2D)             (None, 4, 4, 256)    131328      re_lu_277[0][0]                  \n",
            "__________________________________________________________________________________________________\n",
            "average_pooling2d_9 (AveragePoo (None, 2, 2, 256)    0           conv2d_295[0][0]                 \n",
            "__________________________________________________________________________________________________\n",
            "batch_normalization_312 (BatchN (None, 2, 2, 256)    1024        average_pooling2d_9[0][0]        \n",
            "__________________________________________________________________________________________________\n",
            "re_lu_278 (ReLU)                (None, 2, 2, 256)    0           batch_normalization_312[0][0]    \n",
            "__________________________________________________________________________________________________\n",
            "conv2d_296 (Conv2D)             (None, 2, 2, 128)    32896       re_lu_278[0][0]                  \n",
            "__________________________________________________________________________________________________\n",
            "batch_normalization_313 (BatchN (None, 2, 2, 128)    512         conv2d_296[0][0]                 \n",
            "__________________________________________________________________________________________________\n",
            "re_lu_279 (ReLU)                (None, 2, 2, 128)    0           batch_normalization_313[0][0]    \n",
            "__________________________________________________________________________________________________\n",
            "conv2d_297 (Conv2D)             (None, 2, 2, 32)     36896       re_lu_279[0][0]                  \n",
            "__________________________________________________________________________________________________\n",
            "concatenate_134 (Concatenate)   (None, 2, 2, 288)    0           conv2d_297[0][0]                 \n",
            "                                                                 average_pooling2d_9[0][0]        \n",
            "__________________________________________________________________________________________________\n",
            "batch_normalization_314 (BatchN (None, 2, 2, 288)    1152        concatenate_134[0][0]            \n",
            "__________________________________________________________________________________________________\n",
            "re_lu_280 (ReLU)                (None, 2, 2, 288)    0           batch_normalization_314[0][0]    \n",
            "__________________________________________________________________________________________________\n",
            "conv2d_298 (Conv2D)             (None, 2, 2, 128)    36992       re_lu_280[0][0]                  \n",
            "__________________________________________________________________________________________________\n",
            "batch_normalization_315 (BatchN (None, 2, 2, 128)    512         conv2d_298[0][0]                 \n",
            "__________________________________________________________________________________________________\n",
            "re_lu_281 (ReLU)                (None, 2, 2, 128)    0           batch_normalization_315[0][0]    \n",
            "__________________________________________________________________________________________________\n",
            "conv2d_299 (Conv2D)             (None, 2, 2, 32)     36896       re_lu_281[0][0]                  \n",
            "__________________________________________________________________________________________________\n",
            "concatenate_135 (Concatenate)   (None, 2, 2, 320)    0           conv2d_299[0][0]                 \n",
            "                                                                 concatenate_134[0][0]            \n",
            "__________________________________________________________________________________________________\n",
            "batch_normalization_316 (BatchN (None, 2, 2, 320)    1280        concatenate_135[0][0]            \n",
            "__________________________________________________________________________________________________\n",
            "re_lu_282 (ReLU)                (None, 2, 2, 320)    0           batch_normalization_316[0][0]    \n",
            "__________________________________________________________________________________________________\n",
            "conv2d_300 (Conv2D)             (None, 2, 2, 128)    41088       re_lu_282[0][0]                  \n",
            "__________________________________________________________________________________________________\n",
            "batch_normalization_317 (BatchN (None, 2, 2, 128)    512         conv2d_300[0][0]                 \n",
            "__________________________________________________________________________________________________\n",
            "re_lu_283 (ReLU)                (None, 2, 2, 128)    0           batch_normalization_317[0][0]    \n",
            "__________________________________________________________________________________________________\n",
            "conv2d_301 (Conv2D)             (None, 2, 2, 32)     36896       re_lu_283[0][0]                  \n",
            "__________________________________________________________________________________________________\n",
            "concatenate_136 (Concatenate)   (None, 2, 2, 352)    0           conv2d_301[0][0]                 \n",
            "                                                                 concatenate_135[0][0]            \n",
            "__________________________________________________________________________________________________\n",
            "batch_normalization_318 (BatchN (None, 2, 2, 352)    1408        concatenate_136[0][0]            \n",
            "__________________________________________________________________________________________________\n",
            "re_lu_284 (ReLU)                (None, 2, 2, 352)    0           batch_normalization_318[0][0]    \n",
            "__________________________________________________________________________________________________\n",
            "conv2d_302 (Conv2D)             (None, 2, 2, 128)    45184       re_lu_284[0][0]                  \n",
            "__________________________________________________________________________________________________\n",
            "batch_normalization_319 (BatchN (None, 2, 2, 128)    512         conv2d_302[0][0]                 \n",
            "__________________________________________________________________________________________________\n",
            "re_lu_285 (ReLU)                (None, 2, 2, 128)    0           batch_normalization_319[0][0]    \n",
            "__________________________________________________________________________________________________\n",
            "conv2d_303 (Conv2D)             (None, 2, 2, 32)     36896       re_lu_285[0][0]                  \n",
            "__________________________________________________________________________________________________\n",
            "concatenate_137 (Concatenate)   (None, 2, 2, 384)    0           conv2d_303[0][0]                 \n",
            "                                                                 concatenate_136[0][0]            \n",
            "__________________________________________________________________________________________________\n",
            "batch_normalization_320 (BatchN (None, 2, 2, 384)    1536        concatenate_137[0][0]            \n",
            "__________________________________________________________________________________________________\n",
            "re_lu_286 (ReLU)                (None, 2, 2, 384)    0           batch_normalization_320[0][0]    \n",
            "__________________________________________________________________________________________________\n",
            "conv2d_304 (Conv2D)             (None, 2, 2, 128)    49280       re_lu_286[0][0]                  \n",
            "__________________________________________________________________________________________________\n",
            "batch_normalization_321 (BatchN (None, 2, 2, 128)    512         conv2d_304[0][0]                 \n",
            "__________________________________________________________________________________________________\n",
            "re_lu_287 (ReLU)                (None, 2, 2, 128)    0           batch_normalization_321[0][0]    \n",
            "__________________________________________________________________________________________________\n",
            "conv2d_305 (Conv2D)             (None, 2, 2, 32)     36896       re_lu_287[0][0]                  \n",
            "__________________________________________________________________________________________________\n",
            "concatenate_138 (Concatenate)   (None, 2, 2, 416)    0           conv2d_305[0][0]                 \n",
            "                                                                 concatenate_137[0][0]            \n",
            "__________________________________________________________________________________________________\n",
            "batch_normalization_322 (BatchN (None, 2, 2, 416)    1664        concatenate_138[0][0]            \n",
            "__________________________________________________________________________________________________\n",
            "re_lu_288 (ReLU)                (None, 2, 2, 416)    0           batch_normalization_322[0][0]    \n",
            "__________________________________________________________________________________________________\n",
            "conv2d_306 (Conv2D)             (None, 2, 2, 128)    53376       re_lu_288[0][0]                  \n",
            "__________________________________________________________________________________________________\n",
            "batch_normalization_323 (BatchN (None, 2, 2, 128)    512         conv2d_306[0][0]                 \n",
            "__________________________________________________________________________________________________\n",
            "re_lu_289 (ReLU)                (None, 2, 2, 128)    0           batch_normalization_323[0][0]    \n",
            "__________________________________________________________________________________________________\n",
            "conv2d_307 (Conv2D)             (None, 2, 2, 32)     36896       re_lu_289[0][0]                  \n",
            "__________________________________________________________________________________________________\n",
            "concatenate_139 (Concatenate)   (None, 2, 2, 448)    0           conv2d_307[0][0]                 \n",
            "                                                                 concatenate_138[0][0]            \n",
            "__________________________________________________________________________________________________\n",
            "batch_normalization_324 (BatchN (None, 2, 2, 448)    1792        concatenate_139[0][0]            \n",
            "__________________________________________________________________________________________________\n",
            "re_lu_290 (ReLU)                (None, 2, 2, 448)    0           batch_normalization_324[0][0]    \n",
            "__________________________________________________________________________________________________\n",
            "conv2d_308 (Conv2D)             (None, 2, 2, 128)    57472       re_lu_290[0][0]                  \n",
            "__________________________________________________________________________________________________\n",
            "batch_normalization_325 (BatchN (None, 2, 2, 128)    512         conv2d_308[0][0]                 \n",
            "__________________________________________________________________________________________________\n",
            "re_lu_291 (ReLU)                (None, 2, 2, 128)    0           batch_normalization_325[0][0]    \n",
            "__________________________________________________________________________________________________\n",
            "conv2d_309 (Conv2D)             (None, 2, 2, 32)     36896       re_lu_291[0][0]                  \n",
            "__________________________________________________________________________________________________\n",
            "concatenate_140 (Concatenate)   (None, 2, 2, 480)    0           conv2d_309[0][0]                 \n",
            "                                                                 concatenate_139[0][0]            \n",
            "__________________________________________________________________________________________________\n",
            "batch_normalization_326 (BatchN (None, 2, 2, 480)    1920        concatenate_140[0][0]            \n",
            "__________________________________________________________________________________________________\n",
            "re_lu_292 (ReLU)                (None, 2, 2, 480)    0           batch_normalization_326[0][0]    \n",
            "__________________________________________________________________________________________________\n",
            "conv2d_310 (Conv2D)             (None, 2, 2, 128)    61568       re_lu_292[0][0]                  \n",
            "__________________________________________________________________________________________________\n",
            "batch_normalization_327 (BatchN (None, 2, 2, 128)    512         conv2d_310[0][0]                 \n",
            "__________________________________________________________________________________________________\n",
            "re_lu_293 (ReLU)                (None, 2, 2, 128)    0           batch_normalization_327[0][0]    \n",
            "__________________________________________________________________________________________________\n",
            "conv2d_311 (Conv2D)             (None, 2, 2, 32)     36896       re_lu_293[0][0]                  \n",
            "__________________________________________________________________________________________________\n",
            "concatenate_141 (Concatenate)   (None, 2, 2, 512)    0           conv2d_311[0][0]                 \n",
            "                                                                 concatenate_140[0][0]            \n",
            "__________________________________________________________________________________________________\n",
            "batch_normalization_328 (BatchN (None, 2, 2, 512)    2048        concatenate_141[0][0]            \n",
            "__________________________________________________________________________________________________\n",
            "re_lu_294 (ReLU)                (None, 2, 2, 512)    0           batch_normalization_328[0][0]    \n",
            "__________________________________________________________________________________________________\n",
            "conv2d_312 (Conv2D)             (None, 2, 2, 128)    65664       re_lu_294[0][0]                  \n",
            "__________________________________________________________________________________________________\n",
            "batch_normalization_329 (BatchN (None, 2, 2, 128)    512         conv2d_312[0][0]                 \n",
            "__________________________________________________________________________________________________\n",
            "re_lu_295 (ReLU)                (None, 2, 2, 128)    0           batch_normalization_329[0][0]    \n",
            "__________________________________________________________________________________________________\n",
            "conv2d_313 (Conv2D)             (None, 2, 2, 32)     36896       re_lu_295[0][0]                  \n",
            "__________________________________________________________________________________________________\n",
            "concatenate_142 (Concatenate)   (None, 2, 2, 544)    0           conv2d_313[0][0]                 \n",
            "                                                                 concatenate_141[0][0]            \n",
            "__________________________________________________________________________________________________\n",
            "batch_normalization_330 (BatchN (None, 2, 2, 544)    2176        concatenate_142[0][0]            \n",
            "__________________________________________________________________________________________________\n",
            "re_lu_296 (ReLU)                (None, 2, 2, 544)    0           batch_normalization_330[0][0]    \n",
            "__________________________________________________________________________________________________\n",
            "conv2d_314 (Conv2D)             (None, 2, 2, 128)    69760       re_lu_296[0][0]                  \n",
            "__________________________________________________________________________________________________\n",
            "batch_normalization_331 (BatchN (None, 2, 2, 128)    512         conv2d_314[0][0]                 \n",
            "__________________________________________________________________________________________________\n",
            "re_lu_297 (ReLU)                (None, 2, 2, 128)    0           batch_normalization_331[0][0]    \n",
            "__________________________________________________________________________________________________\n",
            "conv2d_315 (Conv2D)             (None, 2, 2, 32)     36896       re_lu_297[0][0]                  \n",
            "__________________________________________________________________________________________________\n",
            "concatenate_143 (Concatenate)   (None, 2, 2, 576)    0           conv2d_315[0][0]                 \n",
            "                                                                 concatenate_142[0][0]            \n",
            "__________________________________________________________________________________________________\n",
            "batch_normalization_332 (BatchN (None, 2, 2, 576)    2304        concatenate_143[0][0]            \n",
            "__________________________________________________________________________________________________\n",
            "re_lu_298 (ReLU)                (None, 2, 2, 576)    0           batch_normalization_332[0][0]    \n",
            "__________________________________________________________________________________________________\n",
            "conv2d_316 (Conv2D)             (None, 2, 2, 128)    73856       re_lu_298[0][0]                  \n",
            "__________________________________________________________________________________________________\n",
            "batch_normalization_333 (BatchN (None, 2, 2, 128)    512         conv2d_316[0][0]                 \n",
            "__________________________________________________________________________________________________\n",
            "re_lu_299 (ReLU)                (None, 2, 2, 128)    0           batch_normalization_333[0][0]    \n",
            "__________________________________________________________________________________________________\n",
            "conv2d_317 (Conv2D)             (None, 2, 2, 32)     36896       re_lu_299[0][0]                  \n",
            "__________________________________________________________________________________________________\n",
            "concatenate_144 (Concatenate)   (None, 2, 2, 608)    0           conv2d_317[0][0]                 \n",
            "                                                                 concatenate_143[0][0]            \n",
            "__________________________________________________________________________________________________\n",
            "batch_normalization_334 (BatchN (None, 2, 2, 608)    2432        concatenate_144[0][0]            \n",
            "__________________________________________________________________________________________________\n",
            "re_lu_300 (ReLU)                (None, 2, 2, 608)    0           batch_normalization_334[0][0]    \n",
            "__________________________________________________________________________________________________\n",
            "conv2d_318 (Conv2D)             (None, 2, 2, 128)    77952       re_lu_300[0][0]                  \n",
            "__________________________________________________________________________________________________\n",
            "batch_normalization_335 (BatchN (None, 2, 2, 128)    512         conv2d_318[0][0]                 \n",
            "__________________________________________________________________________________________________\n",
            "re_lu_301 (ReLU)                (None, 2, 2, 128)    0           batch_normalization_335[0][0]    \n",
            "__________________________________________________________________________________________________\n",
            "conv2d_319 (Conv2D)             (None, 2, 2, 32)     36896       re_lu_301[0][0]                  \n",
            "__________________________________________________________________________________________________\n",
            "concatenate_145 (Concatenate)   (None, 2, 2, 640)    0           conv2d_319[0][0]                 \n",
            "                                                                 concatenate_144[0][0]            \n",
            "__________________________________________________________________________________________________\n",
            "batch_normalization_336 (BatchN (None, 2, 2, 640)    2560        concatenate_145[0][0]            \n",
            "__________________________________________________________________________________________________\n",
            "re_lu_302 (ReLU)                (None, 2, 2, 640)    0           batch_normalization_336[0][0]    \n",
            "__________________________________________________________________________________________________\n",
            "conv2d_320 (Conv2D)             (None, 2, 2, 128)    82048       re_lu_302[0][0]                  \n",
            "__________________________________________________________________________________________________\n",
            "batch_normalization_337 (BatchN (None, 2, 2, 128)    512         conv2d_320[0][0]                 \n",
            "__________________________________________________________________________________________________\n",
            "re_lu_303 (ReLU)                (None, 2, 2, 128)    0           batch_normalization_337[0][0]    \n",
            "__________________________________________________________________________________________________\n",
            "conv2d_321 (Conv2D)             (None, 2, 2, 32)     36896       re_lu_303[0][0]                  \n",
            "__________________________________________________________________________________________________\n",
            "concatenate_146 (Concatenate)   (None, 2, 2, 672)    0           conv2d_321[0][0]                 \n",
            "                                                                 concatenate_145[0][0]            \n",
            "__________________________________________________________________________________________________\n",
            "batch_normalization_338 (BatchN (None, 2, 2, 672)    2688        concatenate_146[0][0]            \n",
            "__________________________________________________________________________________________________\n",
            "re_lu_304 (ReLU)                (None, 2, 2, 672)    0           batch_normalization_338[0][0]    \n",
            "__________________________________________________________________________________________________\n",
            "conv2d_322 (Conv2D)             (None, 2, 2, 128)    86144       re_lu_304[0][0]                  \n",
            "__________________________________________________________________________________________________\n",
            "batch_normalization_339 (BatchN (None, 2, 2, 128)    512         conv2d_322[0][0]                 \n",
            "__________________________________________________________________________________________________\n",
            "re_lu_305 (ReLU)                (None, 2, 2, 128)    0           batch_normalization_339[0][0]    \n",
            "__________________________________________________________________________________________________\n",
            "conv2d_323 (Conv2D)             (None, 2, 2, 32)     36896       re_lu_305[0][0]                  \n",
            "__________________________________________________________________________________________________\n",
            "concatenate_147 (Concatenate)   (None, 2, 2, 704)    0           conv2d_323[0][0]                 \n",
            "                                                                 concatenate_146[0][0]            \n",
            "__________________________________________________________________________________________________\n",
            "batch_normalization_340 (BatchN (None, 2, 2, 704)    2816        concatenate_147[0][0]            \n",
            "__________________________________________________________________________________________________\n",
            "re_lu_306 (ReLU)                (None, 2, 2, 704)    0           batch_normalization_340[0][0]    \n",
            "__________________________________________________________________________________________________\n",
            "conv2d_324 (Conv2D)             (None, 2, 2, 128)    90240       re_lu_306[0][0]                  \n",
            "__________________________________________________________________________________________________\n",
            "batch_normalization_341 (BatchN (None, 2, 2, 128)    512         conv2d_324[0][0]                 \n",
            "__________________________________________________________________________________________________\n",
            "re_lu_307 (ReLU)                (None, 2, 2, 128)    0           batch_normalization_341[0][0]    \n",
            "__________________________________________________________________________________________________\n",
            "conv2d_325 (Conv2D)             (None, 2, 2, 32)     36896       re_lu_307[0][0]                  \n",
            "__________________________________________________________________________________________________\n",
            "concatenate_148 (Concatenate)   (None, 2, 2, 736)    0           conv2d_325[0][0]                 \n",
            "                                                                 concatenate_147[0][0]            \n",
            "__________________________________________________________________________________________________\n",
            "batch_normalization_342 (BatchN (None, 2, 2, 736)    2944        concatenate_148[0][0]            \n",
            "__________________________________________________________________________________________________\n",
            "re_lu_308 (ReLU)                (None, 2, 2, 736)    0           batch_normalization_342[0][0]    \n",
            "__________________________________________________________________________________________________\n",
            "conv2d_326 (Conv2D)             (None, 2, 2, 128)    94336       re_lu_308[0][0]                  \n",
            "__________________________________________________________________________________________________\n",
            "batch_normalization_343 (BatchN (None, 2, 2, 128)    512         conv2d_326[0][0]                 \n",
            "__________________________________________________________________________________________________\n",
            "re_lu_309 (ReLU)                (None, 2, 2, 128)    0           batch_normalization_343[0][0]    \n",
            "__________________________________________________________________________________________________\n",
            "conv2d_327 (Conv2D)             (None, 2, 2, 32)     36896       re_lu_309[0][0]                  \n",
            "__________________________________________________________________________________________________\n",
            "concatenate_149 (Concatenate)   (None, 2, 2, 768)    0           conv2d_327[0][0]                 \n",
            "                                                                 concatenate_148[0][0]            \n",
            "__________________________________________________________________________________________________\n",
            "batch_normalization_344 (BatchN (None, 2, 2, 768)    3072        concatenate_149[0][0]            \n",
            "__________________________________________________________________________________________________\n",
            "re_lu_310 (ReLU)                (None, 2, 2, 768)    0           batch_normalization_344[0][0]    \n",
            "__________________________________________________________________________________________________\n",
            "conv2d_328 (Conv2D)             (None, 2, 2, 128)    98432       re_lu_310[0][0]                  \n",
            "__________________________________________________________________________________________________\n",
            "batch_normalization_345 (BatchN (None, 2, 2, 128)    512         conv2d_328[0][0]                 \n",
            "__________________________________________________________________________________________________\n",
            "re_lu_311 (ReLU)                (None, 2, 2, 128)    0           batch_normalization_345[0][0]    \n",
            "__________________________________________________________________________________________________\n",
            "conv2d_329 (Conv2D)             (None, 2, 2, 32)     36896       re_lu_311[0][0]                  \n",
            "__________________________________________________________________________________________________\n",
            "concatenate_150 (Concatenate)   (None, 2, 2, 800)    0           conv2d_329[0][0]                 \n",
            "                                                                 concatenate_149[0][0]            \n",
            "__________________________________________________________________________________________________\n",
            "batch_normalization_346 (BatchN (None, 2, 2, 800)    3200        concatenate_150[0][0]            \n",
            "__________________________________________________________________________________________________\n",
            "re_lu_312 (ReLU)                (None, 2, 2, 800)    0           batch_normalization_346[0][0]    \n",
            "__________________________________________________________________________________________________\n",
            "conv2d_330 (Conv2D)             (None, 2, 2, 128)    102528      re_lu_312[0][0]                  \n",
            "__________________________________________________________________________________________________\n",
            "batch_normalization_347 (BatchN (None, 2, 2, 128)    512         conv2d_330[0][0]                 \n",
            "__________________________________________________________________________________________________\n",
            "re_lu_313 (ReLU)                (None, 2, 2, 128)    0           batch_normalization_347[0][0]    \n",
            "__________________________________________________________________________________________________\n",
            "conv2d_331 (Conv2D)             (None, 2, 2, 32)     36896       re_lu_313[0][0]                  \n",
            "__________________________________________________________________________________________________\n",
            "concatenate_151 (Concatenate)   (None, 2, 2, 832)    0           conv2d_331[0][0]                 \n",
            "                                                                 concatenate_150[0][0]            \n",
            "__________________________________________________________________________________________________\n",
            "batch_normalization_348 (BatchN (None, 2, 2, 832)    3328        concatenate_151[0][0]            \n",
            "__________________________________________________________________________________________________\n",
            "re_lu_314 (ReLU)                (None, 2, 2, 832)    0           batch_normalization_348[0][0]    \n",
            "__________________________________________________________________________________________________\n",
            "conv2d_332 (Conv2D)             (None, 2, 2, 128)    106624      re_lu_314[0][0]                  \n",
            "__________________________________________________________________________________________________\n",
            "batch_normalization_349 (BatchN (None, 2, 2, 128)    512         conv2d_332[0][0]                 \n",
            "__________________________________________________________________________________________________\n",
            "re_lu_315 (ReLU)                (None, 2, 2, 128)    0           batch_normalization_349[0][0]    \n",
            "__________________________________________________________________________________________________\n",
            "conv2d_333 (Conv2D)             (None, 2, 2, 32)     36896       re_lu_315[0][0]                  \n",
            "__________________________________________________________________________________________________\n",
            "concatenate_152 (Concatenate)   (None, 2, 2, 864)    0           conv2d_333[0][0]                 \n",
            "                                                                 concatenate_151[0][0]            \n",
            "__________________________________________________________________________________________________\n",
            "batch_normalization_350 (BatchN (None, 2, 2, 864)    3456        concatenate_152[0][0]            \n",
            "__________________________________________________________________________________________________\n",
            "re_lu_316 (ReLU)                (None, 2, 2, 864)    0           batch_normalization_350[0][0]    \n",
            "__________________________________________________________________________________________________\n",
            "conv2d_334 (Conv2D)             (None, 2, 2, 128)    110720      re_lu_316[0][0]                  \n",
            "__________________________________________________________________________________________________\n",
            "batch_normalization_351 (BatchN (None, 2, 2, 128)    512         conv2d_334[0][0]                 \n",
            "__________________________________________________________________________________________________\n",
            "re_lu_317 (ReLU)                (None, 2, 2, 128)    0           batch_normalization_351[0][0]    \n",
            "__________________________________________________________________________________________________\n",
            "conv2d_335 (Conv2D)             (None, 2, 2, 32)     36896       re_lu_317[0][0]                  \n",
            "__________________________________________________________________________________________________\n",
            "concatenate_153 (Concatenate)   (None, 2, 2, 896)    0           conv2d_335[0][0]                 \n",
            "                                                                 concatenate_152[0][0]            \n",
            "__________________________________________________________________________________________________\n",
            "batch_normalization_352 (BatchN (None, 2, 2, 896)    3584        concatenate_153[0][0]            \n",
            "__________________________________________________________________________________________________\n",
            "re_lu_318 (ReLU)                (None, 2, 2, 896)    0           batch_normalization_352[0][0]    \n",
            "__________________________________________________________________________________________________\n",
            "conv2d_336 (Conv2D)             (None, 2, 2, 128)    114816      re_lu_318[0][0]                  \n",
            "__________________________________________________________________________________________________\n",
            "batch_normalization_353 (BatchN (None, 2, 2, 128)    512         conv2d_336[0][0]                 \n",
            "__________________________________________________________________________________________________\n",
            "re_lu_319 (ReLU)                (None, 2, 2, 128)    0           batch_normalization_353[0][0]    \n",
            "__________________________________________________________________________________________________\n",
            "conv2d_337 (Conv2D)             (None, 2, 2, 32)     36896       re_lu_319[0][0]                  \n",
            "__________________________________________________________________________________________________\n",
            "concatenate_154 (Concatenate)   (None, 2, 2, 928)    0           conv2d_337[0][0]                 \n",
            "                                                                 concatenate_153[0][0]            \n",
            "__________________________________________________________________________________________________\n",
            "batch_normalization_354 (BatchN (None, 2, 2, 928)    3712        concatenate_154[0][0]            \n",
            "__________________________________________________________________________________________________\n",
            "re_lu_320 (ReLU)                (None, 2, 2, 928)    0           batch_normalization_354[0][0]    \n",
            "__________________________________________________________________________________________________\n",
            "conv2d_338 (Conv2D)             (None, 2, 2, 128)    118912      re_lu_320[0][0]                  \n",
            "__________________________________________________________________________________________________\n",
            "batch_normalization_355 (BatchN (None, 2, 2, 128)    512         conv2d_338[0][0]                 \n",
            "__________________________________________________________________________________________________\n",
            "re_lu_321 (ReLU)                (None, 2, 2, 128)    0           batch_normalization_355[0][0]    \n",
            "__________________________________________________________________________________________________\n",
            "conv2d_339 (Conv2D)             (None, 2, 2, 32)     36896       re_lu_321[0][0]                  \n",
            "__________________________________________________________________________________________________\n",
            "concatenate_155 (Concatenate)   (None, 2, 2, 960)    0           conv2d_339[0][0]                 \n",
            "                                                                 concatenate_154[0][0]            \n",
            "__________________________________________________________________________________________________\n",
            "batch_normalization_356 (BatchN (None, 2, 2, 960)    3840        concatenate_155[0][0]            \n",
            "__________________________________________________________________________________________________\n",
            "re_lu_322 (ReLU)                (None, 2, 2, 960)    0           batch_normalization_356[0][0]    \n",
            "__________________________________________________________________________________________________\n",
            "conv2d_340 (Conv2D)             (None, 2, 2, 128)    123008      re_lu_322[0][0]                  \n",
            "__________________________________________________________________________________________________\n",
            "batch_normalization_357 (BatchN (None, 2, 2, 128)    512         conv2d_340[0][0]                 \n",
            "__________________________________________________________________________________________________\n",
            "re_lu_323 (ReLU)                (None, 2, 2, 128)    0           batch_normalization_357[0][0]    \n",
            "__________________________________________________________________________________________________\n",
            "conv2d_341 (Conv2D)             (None, 2, 2, 32)     36896       re_lu_323[0][0]                  \n",
            "__________________________________________________________________________________________________\n",
            "concatenate_156 (Concatenate)   (None, 2, 2, 992)    0           conv2d_341[0][0]                 \n",
            "                                                                 concatenate_155[0][0]            \n",
            "__________________________________________________________________________________________________\n",
            "batch_normalization_358 (BatchN (None, 2, 2, 992)    3968        concatenate_156[0][0]            \n",
            "__________________________________________________________________________________________________\n",
            "re_lu_324 (ReLU)                (None, 2, 2, 992)    0           batch_normalization_358[0][0]    \n",
            "__________________________________________________________________________________________________\n",
            "conv2d_342 (Conv2D)             (None, 2, 2, 128)    127104      re_lu_324[0][0]                  \n",
            "__________________________________________________________________________________________________\n",
            "batch_normalization_359 (BatchN (None, 2, 2, 128)    512         conv2d_342[0][0]                 \n",
            "__________________________________________________________________________________________________\n",
            "re_lu_325 (ReLU)                (None, 2, 2, 128)    0           batch_normalization_359[0][0]    \n",
            "__________________________________________________________________________________________________\n",
            "conv2d_343 (Conv2D)             (None, 2, 2, 32)     36896       re_lu_325[0][0]                  \n",
            "__________________________________________________________________________________________________\n",
            "concatenate_157 (Concatenate)   (None, 2, 2, 1024)   0           conv2d_343[0][0]                 \n",
            "                                                                 concatenate_156[0][0]            \n",
            "__________________________________________________________________________________________________\n",
            "batch_normalization_360 (BatchN (None, 2, 2, 1024)   4096        concatenate_157[0][0]            \n",
            "__________________________________________________________________________________________________\n",
            "re_lu_326 (ReLU)                (None, 2, 2, 1024)   0           batch_normalization_360[0][0]    \n",
            "__________________________________________________________________________________________________\n",
            "conv2d_344 (Conv2D)             (None, 2, 2, 512)    524800      re_lu_326[0][0]                  \n",
            "__________________________________________________________________________________________________\n",
            "average_pooling2d_10 (AveragePo (None, 1, 1, 512)    0           conv2d_344[0][0]                 \n",
            "__________________________________________________________________________________________________\n",
            "batch_normalization_361 (BatchN (None, 1, 1, 512)    2048        average_pooling2d_10[0][0]       \n",
            "__________________________________________________________________________________________________\n",
            "re_lu_327 (ReLU)                (None, 1, 1, 512)    0           batch_normalization_361[0][0]    \n",
            "__________________________________________________________________________________________________\n",
            "conv2d_345 (Conv2D)             (None, 1, 1, 128)    65664       re_lu_327[0][0]                  \n",
            "__________________________________________________________________________________________________\n",
            "batch_normalization_362 (BatchN (None, 1, 1, 128)    512         conv2d_345[0][0]                 \n",
            "__________________________________________________________________________________________________\n",
            "re_lu_328 (ReLU)                (None, 1, 1, 128)    0           batch_normalization_362[0][0]    \n",
            "__________________________________________________________________________________________________\n",
            "conv2d_346 (Conv2D)             (None, 1, 1, 32)     36896       re_lu_328[0][0]                  \n",
            "__________________________________________________________________________________________________\n",
            "concatenate_158 (Concatenate)   (None, 1, 1, 544)    0           conv2d_346[0][0]                 \n",
            "                                                                 average_pooling2d_10[0][0]       \n",
            "__________________________________________________________________________________________________\n",
            "batch_normalization_363 (BatchN (None, 1, 1, 544)    2176        concatenate_158[0][0]            \n",
            "__________________________________________________________________________________________________\n",
            "re_lu_329 (ReLU)                (None, 1, 1, 544)    0           batch_normalization_363[0][0]    \n",
            "__________________________________________________________________________________________________\n",
            "conv2d_347 (Conv2D)             (None, 1, 1, 128)    69760       re_lu_329[0][0]                  \n",
            "__________________________________________________________________________________________________\n",
            "batch_normalization_364 (BatchN (None, 1, 1, 128)    512         conv2d_347[0][0]                 \n",
            "__________________________________________________________________________________________________\n",
            "re_lu_330 (ReLU)                (None, 1, 1, 128)    0           batch_normalization_364[0][0]    \n",
            "__________________________________________________________________________________________________\n",
            "conv2d_348 (Conv2D)             (None, 1, 1, 32)     36896       re_lu_330[0][0]                  \n",
            "__________________________________________________________________________________________________\n",
            "concatenate_159 (Concatenate)   (None, 1, 1, 576)    0           conv2d_348[0][0]                 \n",
            "                                                                 concatenate_158[0][0]            \n",
            "__________________________________________________________________________________________________\n",
            "batch_normalization_365 (BatchN (None, 1, 1, 576)    2304        concatenate_159[0][0]            \n",
            "__________________________________________________________________________________________________\n",
            "re_lu_331 (ReLU)                (None, 1, 1, 576)    0           batch_normalization_365[0][0]    \n",
            "__________________________________________________________________________________________________\n",
            "conv2d_349 (Conv2D)             (None, 1, 1, 128)    73856       re_lu_331[0][0]                  \n",
            "__________________________________________________________________________________________________\n",
            "batch_normalization_366 (BatchN (None, 1, 1, 128)    512         conv2d_349[0][0]                 \n",
            "__________________________________________________________________________________________________\n",
            "re_lu_332 (ReLU)                (None, 1, 1, 128)    0           batch_normalization_366[0][0]    \n",
            "__________________________________________________________________________________________________\n",
            "conv2d_350 (Conv2D)             (None, 1, 1, 32)     36896       re_lu_332[0][0]                  \n",
            "__________________________________________________________________________________________________\n",
            "concatenate_160 (Concatenate)   (None, 1, 1, 608)    0           conv2d_350[0][0]                 \n",
            "                                                                 concatenate_159[0][0]            \n",
            "__________________________________________________________________________________________________\n",
            "batch_normalization_367 (BatchN (None, 1, 1, 608)    2432        concatenate_160[0][0]            \n",
            "__________________________________________________________________________________________________\n",
            "re_lu_333 (ReLU)                (None, 1, 1, 608)    0           batch_normalization_367[0][0]    \n",
            "__________________________________________________________________________________________________\n",
            "conv2d_351 (Conv2D)             (None, 1, 1, 128)    77952       re_lu_333[0][0]                  \n",
            "__________________________________________________________________________________________________\n",
            "batch_normalization_368 (BatchN (None, 1, 1, 128)    512         conv2d_351[0][0]                 \n",
            "__________________________________________________________________________________________________\n",
            "re_lu_334 (ReLU)                (None, 1, 1, 128)    0           batch_normalization_368[0][0]    \n",
            "__________________________________________________________________________________________________\n",
            "conv2d_352 (Conv2D)             (None, 1, 1, 32)     36896       re_lu_334[0][0]                  \n",
            "__________________________________________________________________________________________________\n",
            "concatenate_161 (Concatenate)   (None, 1, 1, 640)    0           conv2d_352[0][0]                 \n",
            "                                                                 concatenate_160[0][0]            \n",
            "__________________________________________________________________________________________________\n",
            "batch_normalization_369 (BatchN (None, 1, 1, 640)    2560        concatenate_161[0][0]            \n",
            "__________________________________________________________________________________________________\n",
            "re_lu_335 (ReLU)                (None, 1, 1, 640)    0           batch_normalization_369[0][0]    \n",
            "__________________________________________________________________________________________________\n",
            "conv2d_353 (Conv2D)             (None, 1, 1, 128)    82048       re_lu_335[0][0]                  \n",
            "__________________________________________________________________________________________________\n",
            "batch_normalization_370 (BatchN (None, 1, 1, 128)    512         conv2d_353[0][0]                 \n",
            "__________________________________________________________________________________________________\n",
            "re_lu_336 (ReLU)                (None, 1, 1, 128)    0           batch_normalization_370[0][0]    \n",
            "__________________________________________________________________________________________________\n",
            "conv2d_354 (Conv2D)             (None, 1, 1, 32)     36896       re_lu_336[0][0]                  \n",
            "__________________________________________________________________________________________________\n",
            "concatenate_162 (Concatenate)   (None, 1, 1, 672)    0           conv2d_354[0][0]                 \n",
            "                                                                 concatenate_161[0][0]            \n",
            "__________________________________________________________________________________________________\n",
            "batch_normalization_371 (BatchN (None, 1, 1, 672)    2688        concatenate_162[0][0]            \n",
            "__________________________________________________________________________________________________\n",
            "re_lu_337 (ReLU)                (None, 1, 1, 672)    0           batch_normalization_371[0][0]    \n",
            "__________________________________________________________________________________________________\n",
            "conv2d_355 (Conv2D)             (None, 1, 1, 128)    86144       re_lu_337[0][0]                  \n",
            "__________________________________________________________________________________________________\n",
            "batch_normalization_372 (BatchN (None, 1, 1, 128)    512         conv2d_355[0][0]                 \n",
            "__________________________________________________________________________________________________\n",
            "re_lu_338 (ReLU)                (None, 1, 1, 128)    0           batch_normalization_372[0][0]    \n",
            "__________________________________________________________________________________________________\n",
            "conv2d_356 (Conv2D)             (None, 1, 1, 32)     36896       re_lu_338[0][0]                  \n",
            "__________________________________________________________________________________________________\n",
            "concatenate_163 (Concatenate)   (None, 1, 1, 704)    0           conv2d_356[0][0]                 \n",
            "                                                                 concatenate_162[0][0]            \n",
            "__________________________________________________________________________________________________\n",
            "batch_normalization_373 (BatchN (None, 1, 1, 704)    2816        concatenate_163[0][0]            \n",
            "__________________________________________________________________________________________________\n",
            "re_lu_339 (ReLU)                (None, 1, 1, 704)    0           batch_normalization_373[0][0]    \n",
            "__________________________________________________________________________________________________\n",
            "conv2d_357 (Conv2D)             (None, 1, 1, 128)    90240       re_lu_339[0][0]                  \n",
            "__________________________________________________________________________________________________\n",
            "batch_normalization_374 (BatchN (None, 1, 1, 128)    512         conv2d_357[0][0]                 \n",
            "__________________________________________________________________________________________________\n",
            "re_lu_340 (ReLU)                (None, 1, 1, 128)    0           batch_normalization_374[0][0]    \n",
            "__________________________________________________________________________________________________\n",
            "conv2d_358 (Conv2D)             (None, 1, 1, 32)     36896       re_lu_340[0][0]                  \n",
            "__________________________________________________________________________________________________\n",
            "concatenate_164 (Concatenate)   (None, 1, 1, 736)    0           conv2d_358[0][0]                 \n",
            "                                                                 concatenate_163[0][0]            \n",
            "__________________________________________________________________________________________________\n",
            "batch_normalization_375 (BatchN (None, 1, 1, 736)    2944        concatenate_164[0][0]            \n",
            "__________________________________________________________________________________________________\n",
            "re_lu_341 (ReLU)                (None, 1, 1, 736)    0           batch_normalization_375[0][0]    \n",
            "__________________________________________________________________________________________________\n",
            "conv2d_359 (Conv2D)             (None, 1, 1, 128)    94336       re_lu_341[0][0]                  \n",
            "__________________________________________________________________________________________________\n",
            "batch_normalization_376 (BatchN (None, 1, 1, 128)    512         conv2d_359[0][0]                 \n",
            "__________________________________________________________________________________________________\n",
            "re_lu_342 (ReLU)                (None, 1, 1, 128)    0           batch_normalization_376[0][0]    \n",
            "__________________________________________________________________________________________________\n",
            "conv2d_360 (Conv2D)             (None, 1, 1, 32)     36896       re_lu_342[0][0]                  \n",
            "__________________________________________________________________________________________________\n",
            "concatenate_165 (Concatenate)   (None, 1, 1, 768)    0           conv2d_360[0][0]                 \n",
            "                                                                 concatenate_164[0][0]            \n",
            "__________________________________________________________________________________________________\n",
            "batch_normalization_377 (BatchN (None, 1, 1, 768)    3072        concatenate_165[0][0]            \n",
            "__________________________________________________________________________________________________\n",
            "re_lu_343 (ReLU)                (None, 1, 1, 768)    0           batch_normalization_377[0][0]    \n",
            "__________________________________________________________________________________________________\n",
            "conv2d_361 (Conv2D)             (None, 1, 1, 128)    98432       re_lu_343[0][0]                  \n",
            "__________________________________________________________________________________________________\n",
            "batch_normalization_378 (BatchN (None, 1, 1, 128)    512         conv2d_361[0][0]                 \n",
            "__________________________________________________________________________________________________\n",
            "re_lu_344 (ReLU)                (None, 1, 1, 128)    0           batch_normalization_378[0][0]    \n",
            "__________________________________________________________________________________________________\n",
            "conv2d_362 (Conv2D)             (None, 1, 1, 32)     36896       re_lu_344[0][0]                  \n",
            "__________________________________________________________________________________________________\n",
            "concatenate_166 (Concatenate)   (None, 1, 1, 800)    0           conv2d_362[0][0]                 \n",
            "                                                                 concatenate_165[0][0]            \n",
            "__________________________________________________________________________________________________\n",
            "batch_normalization_379 (BatchN (None, 1, 1, 800)    3200        concatenate_166[0][0]            \n",
            "__________________________________________________________________________________________________\n",
            "re_lu_345 (ReLU)                (None, 1, 1, 800)    0           batch_normalization_379[0][0]    \n",
            "__________________________________________________________________________________________________\n",
            "conv2d_363 (Conv2D)             (None, 1, 1, 128)    102528      re_lu_345[0][0]                  \n",
            "__________________________________________________________________________________________________\n",
            "batch_normalization_380 (BatchN (None, 1, 1, 128)    512         conv2d_363[0][0]                 \n",
            "__________________________________________________________________________________________________\n",
            "re_lu_346 (ReLU)                (None, 1, 1, 128)    0           batch_normalization_380[0][0]    \n",
            "__________________________________________________________________________________________________\n",
            "conv2d_364 (Conv2D)             (None, 1, 1, 32)     36896       re_lu_346[0][0]                  \n",
            "__________________________________________________________________________________________________\n",
            "concatenate_167 (Concatenate)   (None, 1, 1, 832)    0           conv2d_364[0][0]                 \n",
            "                                                                 concatenate_166[0][0]            \n",
            "__________________________________________________________________________________________________\n",
            "batch_normalization_381 (BatchN (None, 1, 1, 832)    3328        concatenate_167[0][0]            \n",
            "__________________________________________________________________________________________________\n",
            "re_lu_347 (ReLU)                (None, 1, 1, 832)    0           batch_normalization_381[0][0]    \n",
            "__________________________________________________________________________________________________\n",
            "conv2d_365 (Conv2D)             (None, 1, 1, 128)    106624      re_lu_347[0][0]                  \n",
            "__________________________________________________________________________________________________\n",
            "batch_normalization_382 (BatchN (None, 1, 1, 128)    512         conv2d_365[0][0]                 \n",
            "__________________________________________________________________________________________________\n",
            "re_lu_348 (ReLU)                (None, 1, 1, 128)    0           batch_normalization_382[0][0]    \n",
            "__________________________________________________________________________________________________\n",
            "conv2d_366 (Conv2D)             (None, 1, 1, 32)     36896       re_lu_348[0][0]                  \n",
            "__________________________________________________________________________________________________\n",
            "concatenate_168 (Concatenate)   (None, 1, 1, 864)    0           conv2d_366[0][0]                 \n",
            "                                                                 concatenate_167[0][0]            \n",
            "__________________________________________________________________________________________________\n",
            "batch_normalization_383 (BatchN (None, 1, 1, 864)    3456        concatenate_168[0][0]            \n",
            "__________________________________________________________________________________________________\n",
            "re_lu_349 (ReLU)                (None, 1, 1, 864)    0           batch_normalization_383[0][0]    \n",
            "__________________________________________________________________________________________________\n",
            "conv2d_367 (Conv2D)             (None, 1, 1, 128)    110720      re_lu_349[0][0]                  \n",
            "__________________________________________________________________________________________________\n",
            "batch_normalization_384 (BatchN (None, 1, 1, 128)    512         conv2d_367[0][0]                 \n",
            "__________________________________________________________________________________________________\n",
            "re_lu_350 (ReLU)                (None, 1, 1, 128)    0           batch_normalization_384[0][0]    \n",
            "__________________________________________________________________________________________________\n",
            "conv2d_368 (Conv2D)             (None, 1, 1, 32)     36896       re_lu_350[0][0]                  \n",
            "__________________________________________________________________________________________________\n",
            "concatenate_169 (Concatenate)   (None, 1, 1, 896)    0           conv2d_368[0][0]                 \n",
            "                                                                 concatenate_168[0][0]            \n",
            "__________________________________________________________________________________________________\n",
            "batch_normalization_385 (BatchN (None, 1, 1, 896)    3584        concatenate_169[0][0]            \n",
            "__________________________________________________________________________________________________\n",
            "re_lu_351 (ReLU)                (None, 1, 1, 896)    0           batch_normalization_385[0][0]    \n",
            "__________________________________________________________________________________________________\n",
            "conv2d_369 (Conv2D)             (None, 1, 1, 128)    114816      re_lu_351[0][0]                  \n",
            "__________________________________________________________________________________________________\n",
            "batch_normalization_386 (BatchN (None, 1, 1, 128)    512         conv2d_369[0][0]                 \n",
            "__________________________________________________________________________________________________\n",
            "re_lu_352 (ReLU)                (None, 1, 1, 128)    0           batch_normalization_386[0][0]    \n",
            "__________________________________________________________________________________________________\n",
            "conv2d_370 (Conv2D)             (None, 1, 1, 32)     36896       re_lu_352[0][0]                  \n",
            "__________________________________________________________________________________________________\n",
            "concatenate_170 (Concatenate)   (None, 1, 1, 928)    0           conv2d_370[0][0]                 \n",
            "                                                                 concatenate_169[0][0]            \n",
            "__________________________________________________________________________________________________\n",
            "batch_normalization_387 (BatchN (None, 1, 1, 928)    3712        concatenate_170[0][0]            \n",
            "__________________________________________________________________________________________________\n",
            "re_lu_353 (ReLU)                (None, 1, 1, 928)    0           batch_normalization_387[0][0]    \n",
            "__________________________________________________________________________________________________\n",
            "conv2d_371 (Conv2D)             (None, 1, 1, 128)    118912      re_lu_353[0][0]                  \n",
            "__________________________________________________________________________________________________\n",
            "batch_normalization_388 (BatchN (None, 1, 1, 128)    512         conv2d_371[0][0]                 \n",
            "__________________________________________________________________________________________________\n",
            "re_lu_354 (ReLU)                (None, 1, 1, 128)    0           batch_normalization_388[0][0]    \n",
            "__________________________________________________________________________________________________\n",
            "conv2d_372 (Conv2D)             (None, 1, 1, 32)     36896       re_lu_354[0][0]                  \n",
            "__________________________________________________________________________________________________\n",
            "concatenate_171 (Concatenate)   (None, 1, 1, 960)    0           conv2d_372[0][0]                 \n",
            "                                                                 concatenate_170[0][0]            \n",
            "__________________________________________________________________________________________________\n",
            "batch_normalization_389 (BatchN (None, 1, 1, 960)    3840        concatenate_171[0][0]            \n",
            "__________________________________________________________________________________________________\n",
            "re_lu_355 (ReLU)                (None, 1, 1, 960)    0           batch_normalization_389[0][0]    \n",
            "__________________________________________________________________________________________________\n",
            "conv2d_373 (Conv2D)             (None, 1, 1, 128)    123008      re_lu_355[0][0]                  \n",
            "__________________________________________________________________________________________________\n",
            "batch_normalization_390 (BatchN (None, 1, 1, 128)    512         conv2d_373[0][0]                 \n",
            "__________________________________________________________________________________________________\n",
            "re_lu_356 (ReLU)                (None, 1, 1, 128)    0           batch_normalization_390[0][0]    \n",
            "__________________________________________________________________________________________________\n",
            "conv2d_374 (Conv2D)             (None, 1, 1, 32)     36896       re_lu_356[0][0]                  \n",
            "__________________________________________________________________________________________________\n",
            "concatenate_172 (Concatenate)   (None, 1, 1, 992)    0           conv2d_374[0][0]                 \n",
            "                                                                 concatenate_171[0][0]            \n",
            "__________________________________________________________________________________________________\n",
            "batch_normalization_391 (BatchN (None, 1, 1, 992)    3968        concatenate_172[0][0]            \n",
            "__________________________________________________________________________________________________\n",
            "re_lu_357 (ReLU)                (None, 1, 1, 992)    0           batch_normalization_391[0][0]    \n",
            "__________________________________________________________________________________________________\n",
            "conv2d_375 (Conv2D)             (None, 1, 1, 128)    127104      re_lu_357[0][0]                  \n",
            "__________________________________________________________________________________________________\n",
            "batch_normalization_392 (BatchN (None, 1, 1, 128)    512         conv2d_375[0][0]                 \n",
            "__________________________________________________________________________________________________\n",
            "re_lu_358 (ReLU)                (None, 1, 1, 128)    0           batch_normalization_392[0][0]    \n",
            "__________________________________________________________________________________________________\n",
            "conv2d_376 (Conv2D)             (None, 1, 1, 32)     36896       re_lu_358[0][0]                  \n",
            "__________________________________________________________________________________________________\n",
            "concatenate_173 (Concatenate)   (None, 1, 1, 1024)   0           conv2d_376[0][0]                 \n",
            "                                                                 concatenate_172[0][0]            \n",
            "__________________________________________________________________________________________________\n",
            "global_average_pooling2d_7 (Glo (None, 1024)         0           concatenate_173[0][0]            \n",
            "__________________________________________________________________________________________________\n",
            "dense_30 (Dense)                (None, 10)           10250       global_average_pooling2d_7[0][0] \n",
            "==================================================================================================\n",
            "Total params: 7,053,642\n",
            "Trainable params: 6,972,170\n",
            "Non-trainable params: 81,472\n",
            "__________________________________________________________________________________________________\n"
          ],
          "name": "stdout"
        }
      ]
    },
    {
      "cell_type": "code",
      "metadata": {
        "id": "fCQ9rDuTqWUF"
      },
      "source": [
        "#model.fit(X_train, y_train, epochs = 10, batch_size = 64, validation_data=(X_test, y_test), shuffle=True)"
      ],
      "execution_count": null,
      "outputs": []
    },
    {
      "cell_type": "markdown",
      "metadata": {
        "id": "a_2Yb8Tek2WM"
      },
      "source": [
        "#Using pretrain models"
      ]
    },
    {
      "cell_type": "code",
      "metadata": {
        "id": "eOlMNp7UlD4D"
      },
      "source": [
        "\n",
        "from tensorflow.keras.applications.resnet50 import ResNet50, preprocess_input\n",
        "import tensorflow.keras as keras\n",
        "from tensorflow.keras import models\n",
        "from tensorflow.keras import layers\n",
        "from tensorflow.keras import optimizers\n",
        "import tensorflow as tf\n",
        "from keras.utils import np_utils\n",
        "from keras.models import load_model\n",
        "from keras.datasets import cifar10\n",
        "from keras.preprocessing import image\n",
        "import numpy as np\n",
        "import matplotlib.pyplot as plt\n",
        "from PIL import Image\n",
        "import cv2"
      ],
      "execution_count": null,
      "outputs": []
    },
    {
      "cell_type": "code",
      "metadata": {
        "id": "vlx7pRfa8tqD",
        "colab": {
          "base_uri": "https://localhost:8080/"
        },
        "outputId": "62975e69-0ec5-4a12-f2e5-14ffa99d56f0"
      },
      "source": [
        "conv_base = ResNet50(weights='imagenet', include_top=False, input_shape=(256, 256, 3))\n"
      ],
      "execution_count": null,
      "outputs": [
        {
          "output_type": "stream",
          "text": [
            "Downloading data from https://storage.googleapis.com/tensorflow/keras-applications/resnet/resnet50_weights_tf_dim_ordering_tf_kernels_notop.h5\n",
            "94773248/94765736 [==============================] - 7s 0us/step\n"
          ],
          "name": "stdout"
        }
      ]
    },
    {
      "cell_type": "code",
      "metadata": {
        "id": "LIzBkc_dlErj"
      },
      "source": [
        "#conv_base.summary()\n"
      ],
      "execution_count": null,
      "outputs": []
    },
    {
      "cell_type": "code",
      "metadata": {
        "id": "npNAn8VUlHxD"
      },
      "source": [
        "model = models.Sequential()\n",
        "model.add(layers.UpSampling2D((2,2)))\n",
        "model.add(layers.UpSampling2D((2,2)))\n",
        "model.add(layers.UpSampling2D((2,2)))\n",
        "model.add(conv_base)\n",
        "model.add(layers.Flatten())\n",
        "model.add(layers.BatchNormalization())\n",
        "model.add(layers.Dense(128, activation='relu'))\n",
        "model.add(layers.Dropout(0.5))\n",
        "model.add(layers.BatchNormalization())\n",
        "model.add(layers.Dense(64, activation='relu'))\n",
        "model.add(layers.Dropout(0.5))\n",
        "model.add(layers.BatchNormalization())\n",
        "model.add(Dense(10,activation = 'softmax'))\n"
      ],
      "execution_count": null,
      "outputs": []
    },
    {
      "cell_type": "code",
      "metadata": {
        "id": "ngExRceEmHd1"
      },
      "source": [
        "model.compile(optimizer=optimizers.RMSprop(lr=2e-5),loss='sparse_categorical_crossentropy',metrics=['accuracy'])\n",
        "#model.compile(optimizer=optimizers.RMSprop(),loss='sparse_categorical_crossentropy',metrics=['accuracy'])"
      ],
      "execution_count": null,
      "outputs": []
    },
    {
      "cell_type": "code",
      "metadata": {
        "colab": {
          "base_uri": "https://localhost:8080/",
          "height": 377
        },
        "id": "fV6KaAVamSbr",
        "outputId": "72cfd5d4-11e7-4c76-a121-b70630a8c535"
      },
      "source": [
        "model.fit(X_train, y_train, epochs = 5, batch_size = 20, validation_data=(X_test, y_test))"
      ],
      "execution_count": null,
      "outputs": [
        {
          "output_type": "stream",
          "text": [
            "Epoch 1/5\n",
            "   2/2500 [..............................] - ETA: 12:15 - loss: 3.0084 - accuracy: 0.1500WARNING:tensorflow:Callbacks method `on_train_batch_end` is slow compared to the batch time (batch time: 0.2049s vs `on_train_batch_end` time: 0.3819s). Check your callbacks.\n",
            "1052/2500 [===========>..................] - ETA: 14:17 - loss: 2.0549 - accuracy: 0.3209"
          ],
          "name": "stdout"
        },
        {
          "output_type": "error",
          "ename": "KeyboardInterrupt",
          "evalue": "ignored",
          "traceback": [
            "\u001b[0;31m---------------------------------------------------------------------------\u001b[0m",
            "\u001b[0;31mKeyboardInterrupt\u001b[0m                         Traceback (most recent call last)",
            "\u001b[0;32m<ipython-input-16-2a7fb8babc7e>\u001b[0m in \u001b[0;36m<module>\u001b[0;34m()\u001b[0m\n\u001b[0;32m----> 1\u001b[0;31m \u001b[0mmodel\u001b[0m\u001b[0;34m.\u001b[0m\u001b[0mfit\u001b[0m\u001b[0;34m(\u001b[0m\u001b[0mX_train\u001b[0m\u001b[0;34m,\u001b[0m \u001b[0my_train\u001b[0m\u001b[0;34m,\u001b[0m \u001b[0mepochs\u001b[0m \u001b[0;34m=\u001b[0m \u001b[0;36m5\u001b[0m\u001b[0;34m,\u001b[0m \u001b[0mbatch_size\u001b[0m \u001b[0;34m=\u001b[0m \u001b[0;36m20\u001b[0m\u001b[0;34m,\u001b[0m \u001b[0mvalidation_data\u001b[0m\u001b[0;34m=\u001b[0m\u001b[0;34m(\u001b[0m\u001b[0mX_test\u001b[0m\u001b[0;34m,\u001b[0m \u001b[0my_test\u001b[0m\u001b[0;34m)\u001b[0m\u001b[0;34m)\u001b[0m\u001b[0;34m\u001b[0m\u001b[0;34m\u001b[0m\u001b[0m\n\u001b[0m",
            "\u001b[0;32m/usr/local/lib/python3.6/dist-packages/tensorflow/python/keras/engine/training.py\u001b[0m in \u001b[0;36m_method_wrapper\u001b[0;34m(self, *args, **kwargs)\u001b[0m\n\u001b[1;32m    106\u001b[0m   \u001b[0;32mdef\u001b[0m \u001b[0m_method_wrapper\u001b[0m\u001b[0;34m(\u001b[0m\u001b[0mself\u001b[0m\u001b[0;34m,\u001b[0m \u001b[0;34m*\u001b[0m\u001b[0margs\u001b[0m\u001b[0;34m,\u001b[0m \u001b[0;34m**\u001b[0m\u001b[0mkwargs\u001b[0m\u001b[0;34m)\u001b[0m\u001b[0;34m:\u001b[0m\u001b[0;34m\u001b[0m\u001b[0;34m\u001b[0m\u001b[0m\n\u001b[1;32m    107\u001b[0m     \u001b[0;32mif\u001b[0m \u001b[0;32mnot\u001b[0m \u001b[0mself\u001b[0m\u001b[0;34m.\u001b[0m\u001b[0m_in_multi_worker_mode\u001b[0m\u001b[0;34m(\u001b[0m\u001b[0;34m)\u001b[0m\u001b[0;34m:\u001b[0m  \u001b[0;31m# pylint: disable=protected-access\u001b[0m\u001b[0;34m\u001b[0m\u001b[0;34m\u001b[0m\u001b[0m\n\u001b[0;32m--> 108\u001b[0;31m       \u001b[0;32mreturn\u001b[0m \u001b[0mmethod\u001b[0m\u001b[0;34m(\u001b[0m\u001b[0mself\u001b[0m\u001b[0;34m,\u001b[0m \u001b[0;34m*\u001b[0m\u001b[0margs\u001b[0m\u001b[0;34m,\u001b[0m \u001b[0;34m**\u001b[0m\u001b[0mkwargs\u001b[0m\u001b[0;34m)\u001b[0m\u001b[0;34m\u001b[0m\u001b[0;34m\u001b[0m\u001b[0m\n\u001b[0m\u001b[1;32m    109\u001b[0m \u001b[0;34m\u001b[0m\u001b[0m\n\u001b[1;32m    110\u001b[0m     \u001b[0;31m# Running inside `run_distribute_coordinator` already.\u001b[0m\u001b[0;34m\u001b[0m\u001b[0;34m\u001b[0m\u001b[0;34m\u001b[0m\u001b[0m\n",
            "\u001b[0;32m/usr/local/lib/python3.6/dist-packages/tensorflow/python/keras/engine/training.py\u001b[0m in \u001b[0;36mfit\u001b[0;34m(self, x, y, batch_size, epochs, verbose, callbacks, validation_split, validation_data, shuffle, class_weight, sample_weight, initial_epoch, steps_per_epoch, validation_steps, validation_batch_size, validation_freq, max_queue_size, workers, use_multiprocessing)\u001b[0m\n\u001b[1;32m   1101\u001b[0m               \u001b[0mlogs\u001b[0m \u001b[0;34m=\u001b[0m \u001b[0mtmp_logs\u001b[0m  \u001b[0;31m# No error, now safe to assign to logs.\u001b[0m\u001b[0;34m\u001b[0m\u001b[0;34m\u001b[0m\u001b[0m\n\u001b[1;32m   1102\u001b[0m               \u001b[0mend_step\u001b[0m \u001b[0;34m=\u001b[0m \u001b[0mstep\u001b[0m \u001b[0;34m+\u001b[0m \u001b[0mdata_handler\u001b[0m\u001b[0;34m.\u001b[0m\u001b[0mstep_increment\u001b[0m\u001b[0;34m\u001b[0m\u001b[0;34m\u001b[0m\u001b[0m\n\u001b[0;32m-> 1103\u001b[0;31m               \u001b[0mcallbacks\u001b[0m\u001b[0;34m.\u001b[0m\u001b[0mon_train_batch_end\u001b[0m\u001b[0;34m(\u001b[0m\u001b[0mend_step\u001b[0m\u001b[0;34m,\u001b[0m \u001b[0mlogs\u001b[0m\u001b[0;34m)\u001b[0m\u001b[0;34m\u001b[0m\u001b[0;34m\u001b[0m\u001b[0m\n\u001b[0m\u001b[1;32m   1104\u001b[0m         \u001b[0mepoch_logs\u001b[0m \u001b[0;34m=\u001b[0m \u001b[0mcopy\u001b[0m\u001b[0;34m.\u001b[0m\u001b[0mcopy\u001b[0m\u001b[0;34m(\u001b[0m\u001b[0mlogs\u001b[0m\u001b[0;34m)\u001b[0m\u001b[0;34m\u001b[0m\u001b[0;34m\u001b[0m\u001b[0m\n\u001b[1;32m   1105\u001b[0m \u001b[0;34m\u001b[0m\u001b[0m\n",
            "\u001b[0;32m/usr/local/lib/python3.6/dist-packages/tensorflow/python/keras/callbacks.py\u001b[0m in \u001b[0;36mon_train_batch_end\u001b[0;34m(self, batch, logs)\u001b[0m\n\u001b[1;32m    438\u001b[0m     \"\"\"\n\u001b[1;32m    439\u001b[0m     \u001b[0;32mif\u001b[0m \u001b[0mself\u001b[0m\u001b[0;34m.\u001b[0m\u001b[0m_should_call_train_batch_hooks\u001b[0m\u001b[0;34m:\u001b[0m\u001b[0;34m\u001b[0m\u001b[0;34m\u001b[0m\u001b[0m\n\u001b[0;32m--> 440\u001b[0;31m       \u001b[0mself\u001b[0m\u001b[0;34m.\u001b[0m\u001b[0m_call_batch_hook\u001b[0m\u001b[0;34m(\u001b[0m\u001b[0mModeKeys\u001b[0m\u001b[0;34m.\u001b[0m\u001b[0mTRAIN\u001b[0m\u001b[0;34m,\u001b[0m \u001b[0;34m'end'\u001b[0m\u001b[0;34m,\u001b[0m \u001b[0mbatch\u001b[0m\u001b[0;34m,\u001b[0m \u001b[0mlogs\u001b[0m\u001b[0;34m=\u001b[0m\u001b[0mlogs\u001b[0m\u001b[0;34m)\u001b[0m\u001b[0;34m\u001b[0m\u001b[0;34m\u001b[0m\u001b[0m\n\u001b[0m\u001b[1;32m    441\u001b[0m \u001b[0;34m\u001b[0m\u001b[0m\n\u001b[1;32m    442\u001b[0m   \u001b[0;32mdef\u001b[0m \u001b[0mon_test_batch_begin\u001b[0m\u001b[0;34m(\u001b[0m\u001b[0mself\u001b[0m\u001b[0;34m,\u001b[0m \u001b[0mbatch\u001b[0m\u001b[0;34m,\u001b[0m \u001b[0mlogs\u001b[0m\u001b[0;34m=\u001b[0m\u001b[0;32mNone\u001b[0m\u001b[0;34m)\u001b[0m\u001b[0;34m:\u001b[0m\u001b[0;34m\u001b[0m\u001b[0;34m\u001b[0m\u001b[0m\n",
            "\u001b[0;32m/usr/local/lib/python3.6/dist-packages/tensorflow/python/keras/callbacks.py\u001b[0m in \u001b[0;36m_call_batch_hook\u001b[0;34m(self, mode, hook, batch, logs)\u001b[0m\n\u001b[1;32m    287\u001b[0m       \u001b[0mself\u001b[0m\u001b[0;34m.\u001b[0m\u001b[0m_call_batch_begin_hook\u001b[0m\u001b[0;34m(\u001b[0m\u001b[0mmode\u001b[0m\u001b[0;34m,\u001b[0m \u001b[0mbatch\u001b[0m\u001b[0;34m,\u001b[0m \u001b[0mlogs\u001b[0m\u001b[0;34m)\u001b[0m\u001b[0;34m\u001b[0m\u001b[0;34m\u001b[0m\u001b[0m\n\u001b[1;32m    288\u001b[0m     \u001b[0;32melif\u001b[0m \u001b[0mhook\u001b[0m \u001b[0;34m==\u001b[0m \u001b[0;34m'end'\u001b[0m\u001b[0;34m:\u001b[0m\u001b[0;34m\u001b[0m\u001b[0;34m\u001b[0m\u001b[0m\n\u001b[0;32m--> 289\u001b[0;31m       \u001b[0mself\u001b[0m\u001b[0;34m.\u001b[0m\u001b[0m_call_batch_end_hook\u001b[0m\u001b[0;34m(\u001b[0m\u001b[0mmode\u001b[0m\u001b[0;34m,\u001b[0m \u001b[0mbatch\u001b[0m\u001b[0;34m,\u001b[0m \u001b[0mlogs\u001b[0m\u001b[0;34m)\u001b[0m\u001b[0;34m\u001b[0m\u001b[0;34m\u001b[0m\u001b[0m\n\u001b[0m\u001b[1;32m    290\u001b[0m     \u001b[0;32melse\u001b[0m\u001b[0;34m:\u001b[0m\u001b[0;34m\u001b[0m\u001b[0;34m\u001b[0m\u001b[0m\n\u001b[1;32m    291\u001b[0m       \u001b[0;32mraise\u001b[0m \u001b[0mValueError\u001b[0m\u001b[0;34m(\u001b[0m\u001b[0;34m'Unrecognized hook: {}'\u001b[0m\u001b[0;34m.\u001b[0m\u001b[0mformat\u001b[0m\u001b[0;34m(\u001b[0m\u001b[0mhook\u001b[0m\u001b[0;34m)\u001b[0m\u001b[0;34m)\u001b[0m\u001b[0;34m\u001b[0m\u001b[0;34m\u001b[0m\u001b[0m\n",
            "\u001b[0;32m/usr/local/lib/python3.6/dist-packages/tensorflow/python/keras/callbacks.py\u001b[0m in \u001b[0;36m_call_batch_end_hook\u001b[0;34m(self, mode, batch, logs)\u001b[0m\n\u001b[1;32m    307\u001b[0m       \u001b[0mbatch_time\u001b[0m \u001b[0;34m=\u001b[0m \u001b[0mtime\u001b[0m\u001b[0;34m.\u001b[0m\u001b[0mtime\u001b[0m\u001b[0;34m(\u001b[0m\u001b[0;34m)\u001b[0m \u001b[0;34m-\u001b[0m \u001b[0mself\u001b[0m\u001b[0;34m.\u001b[0m\u001b[0m_batch_start_time\u001b[0m\u001b[0;34m\u001b[0m\u001b[0;34m\u001b[0m\u001b[0m\n\u001b[1;32m    308\u001b[0m \u001b[0;34m\u001b[0m\u001b[0m\n\u001b[0;32m--> 309\u001b[0;31m     \u001b[0mself\u001b[0m\u001b[0;34m.\u001b[0m\u001b[0m_call_batch_hook_helper\u001b[0m\u001b[0;34m(\u001b[0m\u001b[0mhook_name\u001b[0m\u001b[0;34m,\u001b[0m \u001b[0mbatch\u001b[0m\u001b[0;34m,\u001b[0m \u001b[0mlogs\u001b[0m\u001b[0;34m)\u001b[0m\u001b[0;34m\u001b[0m\u001b[0;34m\u001b[0m\u001b[0m\n\u001b[0m\u001b[1;32m    310\u001b[0m \u001b[0;34m\u001b[0m\u001b[0m\n\u001b[1;32m    311\u001b[0m     \u001b[0;32mif\u001b[0m \u001b[0mself\u001b[0m\u001b[0;34m.\u001b[0m\u001b[0m_check_timing\u001b[0m\u001b[0;34m:\u001b[0m\u001b[0;34m\u001b[0m\u001b[0;34m\u001b[0m\u001b[0m\n",
            "\u001b[0;32m/usr/local/lib/python3.6/dist-packages/tensorflow/python/keras/callbacks.py\u001b[0m in \u001b[0;36m_call_batch_hook_helper\u001b[0;34m(self, hook_name, batch, logs)\u001b[0m\n\u001b[1;32m    340\u001b[0m       \u001b[0mhook\u001b[0m \u001b[0;34m=\u001b[0m \u001b[0mgetattr\u001b[0m\u001b[0;34m(\u001b[0m\u001b[0mcallback\u001b[0m\u001b[0;34m,\u001b[0m \u001b[0mhook_name\u001b[0m\u001b[0;34m)\u001b[0m\u001b[0;34m\u001b[0m\u001b[0;34m\u001b[0m\u001b[0m\n\u001b[1;32m    341\u001b[0m       \u001b[0;32mif\u001b[0m \u001b[0mgetattr\u001b[0m\u001b[0;34m(\u001b[0m\u001b[0mcallback\u001b[0m\u001b[0;34m,\u001b[0m \u001b[0;34m'_supports_tf_logs'\u001b[0m\u001b[0;34m,\u001b[0m \u001b[0;32mFalse\u001b[0m\u001b[0;34m)\u001b[0m\u001b[0;34m:\u001b[0m\u001b[0;34m\u001b[0m\u001b[0;34m\u001b[0m\u001b[0m\n\u001b[0;32m--> 342\u001b[0;31m         \u001b[0mhook\u001b[0m\u001b[0;34m(\u001b[0m\u001b[0mbatch\u001b[0m\u001b[0;34m,\u001b[0m \u001b[0mlogs\u001b[0m\u001b[0;34m)\u001b[0m\u001b[0;34m\u001b[0m\u001b[0;34m\u001b[0m\u001b[0m\n\u001b[0m\u001b[1;32m    343\u001b[0m       \u001b[0;32melse\u001b[0m\u001b[0;34m:\u001b[0m\u001b[0;34m\u001b[0m\u001b[0;34m\u001b[0m\u001b[0m\n\u001b[1;32m    344\u001b[0m         \u001b[0;32mif\u001b[0m \u001b[0mnumpy_logs\u001b[0m \u001b[0;32mis\u001b[0m \u001b[0;32mNone\u001b[0m\u001b[0;34m:\u001b[0m  \u001b[0;31m# Only convert once.\u001b[0m\u001b[0;34m\u001b[0m\u001b[0;34m\u001b[0m\u001b[0m\n",
            "\u001b[0;32m/usr/local/lib/python3.6/dist-packages/tensorflow/python/keras/callbacks.py\u001b[0m in \u001b[0;36mon_train_batch_end\u001b[0;34m(self, batch, logs)\u001b[0m\n\u001b[1;32m    959\u001b[0m \u001b[0;34m\u001b[0m\u001b[0m\n\u001b[1;32m    960\u001b[0m   \u001b[0;32mdef\u001b[0m \u001b[0mon_train_batch_end\u001b[0m\u001b[0;34m(\u001b[0m\u001b[0mself\u001b[0m\u001b[0;34m,\u001b[0m \u001b[0mbatch\u001b[0m\u001b[0;34m,\u001b[0m \u001b[0mlogs\u001b[0m\u001b[0;34m=\u001b[0m\u001b[0;32mNone\u001b[0m\u001b[0;34m)\u001b[0m\u001b[0;34m:\u001b[0m\u001b[0;34m\u001b[0m\u001b[0;34m\u001b[0m\u001b[0m\n\u001b[0;32m--> 961\u001b[0;31m     \u001b[0mself\u001b[0m\u001b[0;34m.\u001b[0m\u001b[0m_batch_update_progbar\u001b[0m\u001b[0;34m(\u001b[0m\u001b[0mbatch\u001b[0m\u001b[0;34m,\u001b[0m \u001b[0mlogs\u001b[0m\u001b[0;34m)\u001b[0m\u001b[0;34m\u001b[0m\u001b[0;34m\u001b[0m\u001b[0m\n\u001b[0m\u001b[1;32m    962\u001b[0m \u001b[0;34m\u001b[0m\u001b[0m\n\u001b[1;32m    963\u001b[0m   \u001b[0;32mdef\u001b[0m \u001b[0mon_test_batch_end\u001b[0m\u001b[0;34m(\u001b[0m\u001b[0mself\u001b[0m\u001b[0;34m,\u001b[0m \u001b[0mbatch\u001b[0m\u001b[0;34m,\u001b[0m \u001b[0mlogs\u001b[0m\u001b[0;34m=\u001b[0m\u001b[0;32mNone\u001b[0m\u001b[0;34m)\u001b[0m\u001b[0;34m:\u001b[0m\u001b[0;34m\u001b[0m\u001b[0;34m\u001b[0m\u001b[0m\n",
            "\u001b[0;32m/usr/local/lib/python3.6/dist-packages/tensorflow/python/keras/callbacks.py\u001b[0m in \u001b[0;36m_batch_update_progbar\u001b[0;34m(self, batch, logs)\u001b[0m\n\u001b[1;32m   1014\u001b[0m     \u001b[0;32mif\u001b[0m \u001b[0mself\u001b[0m\u001b[0;34m.\u001b[0m\u001b[0mverbose\u001b[0m \u001b[0;34m==\u001b[0m \u001b[0;36m1\u001b[0m\u001b[0;34m:\u001b[0m\u001b[0;34m\u001b[0m\u001b[0;34m\u001b[0m\u001b[0m\n\u001b[1;32m   1015\u001b[0m       \u001b[0;31m# Only block async when verbose = 1.\u001b[0m\u001b[0;34m\u001b[0m\u001b[0;34m\u001b[0m\u001b[0;34m\u001b[0m\u001b[0m\n\u001b[0;32m-> 1016\u001b[0;31m       \u001b[0mlogs\u001b[0m \u001b[0;34m=\u001b[0m \u001b[0mtf_utils\u001b[0m\u001b[0;34m.\u001b[0m\u001b[0mto_numpy_or_python_type\u001b[0m\u001b[0;34m(\u001b[0m\u001b[0mlogs\u001b[0m\u001b[0;34m)\u001b[0m\u001b[0;34m\u001b[0m\u001b[0;34m\u001b[0m\u001b[0m\n\u001b[0m\u001b[1;32m   1017\u001b[0m       \u001b[0mself\u001b[0m\u001b[0;34m.\u001b[0m\u001b[0mprogbar\u001b[0m\u001b[0;34m.\u001b[0m\u001b[0mupdate\u001b[0m\u001b[0;34m(\u001b[0m\u001b[0mself\u001b[0m\u001b[0;34m.\u001b[0m\u001b[0mseen\u001b[0m\u001b[0;34m,\u001b[0m \u001b[0mlist\u001b[0m\u001b[0;34m(\u001b[0m\u001b[0mlogs\u001b[0m\u001b[0;34m.\u001b[0m\u001b[0mitems\u001b[0m\u001b[0;34m(\u001b[0m\u001b[0;34m)\u001b[0m\u001b[0;34m)\u001b[0m\u001b[0;34m,\u001b[0m \u001b[0mfinalize\u001b[0m\u001b[0;34m=\u001b[0m\u001b[0;32mFalse\u001b[0m\u001b[0;34m)\u001b[0m\u001b[0;34m\u001b[0m\u001b[0;34m\u001b[0m\u001b[0m\n\u001b[1;32m   1018\u001b[0m \u001b[0;34m\u001b[0m\u001b[0m\n",
            "\u001b[0;32m/usr/local/lib/python3.6/dist-packages/tensorflow/python/keras/utils/tf_utils.py\u001b[0m in \u001b[0;36mto_numpy_or_python_type\u001b[0;34m(tensors)\u001b[0m\n\u001b[1;32m    535\u001b[0m     \u001b[0;32mreturn\u001b[0m \u001b[0mt\u001b[0m  \u001b[0;31m# Don't turn ragged or sparse tensors to NumPy.\u001b[0m\u001b[0;34m\u001b[0m\u001b[0;34m\u001b[0m\u001b[0m\n\u001b[1;32m    536\u001b[0m \u001b[0;34m\u001b[0m\u001b[0m\n\u001b[0;32m--> 537\u001b[0;31m   \u001b[0;32mreturn\u001b[0m \u001b[0mnest\u001b[0m\u001b[0;34m.\u001b[0m\u001b[0mmap_structure\u001b[0m\u001b[0;34m(\u001b[0m\u001b[0m_to_single_numpy_or_python_type\u001b[0m\u001b[0;34m,\u001b[0m \u001b[0mtensors\u001b[0m\u001b[0;34m)\u001b[0m\u001b[0;34m\u001b[0m\u001b[0;34m\u001b[0m\u001b[0m\n\u001b[0m\u001b[1;32m    538\u001b[0m \u001b[0;34m\u001b[0m\u001b[0m\n\u001b[1;32m    539\u001b[0m \u001b[0;34m\u001b[0m\u001b[0m\n",
            "\u001b[0;32m/usr/local/lib/python3.6/dist-packages/tensorflow/python/util/nest.py\u001b[0m in \u001b[0;36mmap_structure\u001b[0;34m(func, *structure, **kwargs)\u001b[0m\n\u001b[1;32m    633\u001b[0m \u001b[0;34m\u001b[0m\u001b[0m\n\u001b[1;32m    634\u001b[0m   return pack_sequence_as(\n\u001b[0;32m--> 635\u001b[0;31m       \u001b[0mstructure\u001b[0m\u001b[0;34m[\u001b[0m\u001b[0;36m0\u001b[0m\u001b[0;34m]\u001b[0m\u001b[0;34m,\u001b[0m \u001b[0;34m[\u001b[0m\u001b[0mfunc\u001b[0m\u001b[0;34m(\u001b[0m\u001b[0;34m*\u001b[0m\u001b[0mx\u001b[0m\u001b[0;34m)\u001b[0m \u001b[0;32mfor\u001b[0m \u001b[0mx\u001b[0m \u001b[0;32min\u001b[0m \u001b[0mentries\u001b[0m\u001b[0;34m]\u001b[0m\u001b[0;34m,\u001b[0m\u001b[0;34m\u001b[0m\u001b[0;34m\u001b[0m\u001b[0m\n\u001b[0m\u001b[1;32m    636\u001b[0m       expand_composites=expand_composites)\n\u001b[1;32m    637\u001b[0m \u001b[0;34m\u001b[0m\u001b[0m\n",
            "\u001b[0;32m/usr/local/lib/python3.6/dist-packages/tensorflow/python/util/nest.py\u001b[0m in \u001b[0;36m<listcomp>\u001b[0;34m(.0)\u001b[0m\n\u001b[1;32m    633\u001b[0m \u001b[0;34m\u001b[0m\u001b[0m\n\u001b[1;32m    634\u001b[0m   return pack_sequence_as(\n\u001b[0;32m--> 635\u001b[0;31m       \u001b[0mstructure\u001b[0m\u001b[0;34m[\u001b[0m\u001b[0;36m0\u001b[0m\u001b[0;34m]\u001b[0m\u001b[0;34m,\u001b[0m \u001b[0;34m[\u001b[0m\u001b[0mfunc\u001b[0m\u001b[0;34m(\u001b[0m\u001b[0;34m*\u001b[0m\u001b[0mx\u001b[0m\u001b[0;34m)\u001b[0m \u001b[0;32mfor\u001b[0m \u001b[0mx\u001b[0m \u001b[0;32min\u001b[0m \u001b[0mentries\u001b[0m\u001b[0;34m]\u001b[0m\u001b[0;34m,\u001b[0m\u001b[0;34m\u001b[0m\u001b[0;34m\u001b[0m\u001b[0m\n\u001b[0m\u001b[1;32m    636\u001b[0m       expand_composites=expand_composites)\n\u001b[1;32m    637\u001b[0m \u001b[0;34m\u001b[0m\u001b[0m\n",
            "\u001b[0;32m/usr/local/lib/python3.6/dist-packages/tensorflow/python/keras/utils/tf_utils.py\u001b[0m in \u001b[0;36m_to_single_numpy_or_python_type\u001b[0;34m(t)\u001b[0m\n\u001b[1;32m    531\u001b[0m   \u001b[0;32mdef\u001b[0m \u001b[0m_to_single_numpy_or_python_type\u001b[0m\u001b[0;34m(\u001b[0m\u001b[0mt\u001b[0m\u001b[0;34m)\u001b[0m\u001b[0;34m:\u001b[0m\u001b[0;34m\u001b[0m\u001b[0;34m\u001b[0m\u001b[0m\n\u001b[1;32m    532\u001b[0m     \u001b[0;32mif\u001b[0m \u001b[0misinstance\u001b[0m\u001b[0;34m(\u001b[0m\u001b[0mt\u001b[0m\u001b[0;34m,\u001b[0m \u001b[0mops\u001b[0m\u001b[0;34m.\u001b[0m\u001b[0mTensor\u001b[0m\u001b[0;34m)\u001b[0m\u001b[0;34m:\u001b[0m\u001b[0;34m\u001b[0m\u001b[0;34m\u001b[0m\u001b[0m\n\u001b[0;32m--> 533\u001b[0;31m       \u001b[0mx\u001b[0m \u001b[0;34m=\u001b[0m \u001b[0mt\u001b[0m\u001b[0;34m.\u001b[0m\u001b[0mnumpy\u001b[0m\u001b[0;34m(\u001b[0m\u001b[0;34m)\u001b[0m\u001b[0;34m\u001b[0m\u001b[0;34m\u001b[0m\u001b[0m\n\u001b[0m\u001b[1;32m    534\u001b[0m       \u001b[0;32mreturn\u001b[0m \u001b[0mx\u001b[0m\u001b[0;34m.\u001b[0m\u001b[0mitem\u001b[0m\u001b[0;34m(\u001b[0m\u001b[0;34m)\u001b[0m \u001b[0;32mif\u001b[0m \u001b[0mnp\u001b[0m\u001b[0;34m.\u001b[0m\u001b[0mndim\u001b[0m\u001b[0;34m(\u001b[0m\u001b[0mx\u001b[0m\u001b[0;34m)\u001b[0m \u001b[0;34m==\u001b[0m \u001b[0;36m0\u001b[0m \u001b[0;32melse\u001b[0m \u001b[0mx\u001b[0m\u001b[0;34m\u001b[0m\u001b[0;34m\u001b[0m\u001b[0m\n\u001b[1;32m    535\u001b[0m     \u001b[0;32mreturn\u001b[0m \u001b[0mt\u001b[0m  \u001b[0;31m# Don't turn ragged or sparse tensors to NumPy.\u001b[0m\u001b[0;34m\u001b[0m\u001b[0;34m\u001b[0m\u001b[0m\n",
            "\u001b[0;32m/usr/local/lib/python3.6/dist-packages/tensorflow/python/framework/ops.py\u001b[0m in \u001b[0;36mnumpy\u001b[0;34m(self)\u001b[0m\n\u001b[1;32m   1061\u001b[0m     \"\"\"\n\u001b[1;32m   1062\u001b[0m     \u001b[0;31m# TODO(slebedev): Consider avoiding a copy for non-CPU or remote tensors.\u001b[0m\u001b[0;34m\u001b[0m\u001b[0;34m\u001b[0m\u001b[0;34m\u001b[0m\u001b[0m\n\u001b[0;32m-> 1063\u001b[0;31m     \u001b[0mmaybe_arr\u001b[0m \u001b[0;34m=\u001b[0m \u001b[0mself\u001b[0m\u001b[0;34m.\u001b[0m\u001b[0m_numpy\u001b[0m\u001b[0;34m(\u001b[0m\u001b[0;34m)\u001b[0m  \u001b[0;31m# pylint: disable=protected-access\u001b[0m\u001b[0;34m\u001b[0m\u001b[0;34m\u001b[0m\u001b[0m\n\u001b[0m\u001b[1;32m   1064\u001b[0m     \u001b[0;32mreturn\u001b[0m \u001b[0mmaybe_arr\u001b[0m\u001b[0;34m.\u001b[0m\u001b[0mcopy\u001b[0m\u001b[0;34m(\u001b[0m\u001b[0;34m)\u001b[0m \u001b[0;32mif\u001b[0m \u001b[0misinstance\u001b[0m\u001b[0;34m(\u001b[0m\u001b[0mmaybe_arr\u001b[0m\u001b[0;34m,\u001b[0m \u001b[0mnp\u001b[0m\u001b[0;34m.\u001b[0m\u001b[0mndarray\u001b[0m\u001b[0;34m)\u001b[0m \u001b[0;32melse\u001b[0m \u001b[0mmaybe_arr\u001b[0m\u001b[0;34m\u001b[0m\u001b[0;34m\u001b[0m\u001b[0m\n\u001b[1;32m   1065\u001b[0m \u001b[0;34m\u001b[0m\u001b[0m\n",
            "\u001b[0;32m/usr/local/lib/python3.6/dist-packages/tensorflow/python/framework/ops.py\u001b[0m in \u001b[0;36m_numpy\u001b[0;34m(self)\u001b[0m\n\u001b[1;32m   1027\u001b[0m   \u001b[0;32mdef\u001b[0m \u001b[0m_numpy\u001b[0m\u001b[0;34m(\u001b[0m\u001b[0mself\u001b[0m\u001b[0;34m)\u001b[0m\u001b[0;34m:\u001b[0m\u001b[0;34m\u001b[0m\u001b[0;34m\u001b[0m\u001b[0m\n\u001b[1;32m   1028\u001b[0m     \u001b[0;32mtry\u001b[0m\u001b[0;34m:\u001b[0m\u001b[0;34m\u001b[0m\u001b[0;34m\u001b[0m\u001b[0m\n\u001b[0;32m-> 1029\u001b[0;31m       \u001b[0;32mreturn\u001b[0m \u001b[0mself\u001b[0m\u001b[0;34m.\u001b[0m\u001b[0m_numpy_internal\u001b[0m\u001b[0;34m(\u001b[0m\u001b[0;34m)\u001b[0m\u001b[0;34m\u001b[0m\u001b[0;34m\u001b[0m\u001b[0m\n\u001b[0m\u001b[1;32m   1030\u001b[0m     \u001b[0;32mexcept\u001b[0m \u001b[0mcore\u001b[0m\u001b[0;34m.\u001b[0m\u001b[0m_NotOkStatusException\u001b[0m \u001b[0;32mas\u001b[0m \u001b[0me\u001b[0m\u001b[0;34m:\u001b[0m  \u001b[0;31m# pylint: disable=protected-access\u001b[0m\u001b[0;34m\u001b[0m\u001b[0;34m\u001b[0m\u001b[0m\n\u001b[1;32m   1031\u001b[0m       \u001b[0msix\u001b[0m\u001b[0;34m.\u001b[0m\u001b[0mraise_from\u001b[0m\u001b[0;34m(\u001b[0m\u001b[0mcore\u001b[0m\u001b[0;34m.\u001b[0m\u001b[0m_status_to_exception\u001b[0m\u001b[0;34m(\u001b[0m\u001b[0me\u001b[0m\u001b[0;34m.\u001b[0m\u001b[0mcode\u001b[0m\u001b[0;34m,\u001b[0m \u001b[0me\u001b[0m\u001b[0;34m.\u001b[0m\u001b[0mmessage\u001b[0m\u001b[0;34m)\u001b[0m\u001b[0;34m,\u001b[0m \u001b[0;32mNone\u001b[0m\u001b[0;34m)\u001b[0m  \u001b[0;31m# pylint: disable=protected-access\u001b[0m\u001b[0;34m\u001b[0m\u001b[0;34m\u001b[0m\u001b[0m\n",
            "\u001b[0;31mKeyboardInterrupt\u001b[0m: "
          ]
        }
      ]
    },
    {
      "cell_type": "code",
      "metadata": {
        "colab": {
          "base_uri": "https://localhost:8080/"
        },
        "id": "x_NqPxVFmcnE",
        "outputId": "3fb8a157-327c-4c11-c67f-9eb95dc8bc01"
      },
      "source": [
        "model.evaluate(X_test, y_test)"
      ],
      "execution_count": null,
      "outputs": [
        {
          "output_type": "stream",
          "text": [
            "313/313 [==============================] - 22s 72ms/step - loss: 0.3402 - accuracy: 0.9035\n"
          ],
          "name": "stdout"
        },
        {
          "output_type": "execute_result",
          "data": {
            "text/plain": [
              "[0.3402438759803772, 0.9035000205039978]"
            ]
          },
          "metadata": {
            "tags": []
          },
          "execution_count": 54
        }
      ]
    },
    {
      "cell_type": "code",
      "metadata": {
        "id": "r-XbToy5gm2u"
      },
      "source": [
        ""
      ],
      "execution_count": null,
      "outputs": []
    }
  ]
}